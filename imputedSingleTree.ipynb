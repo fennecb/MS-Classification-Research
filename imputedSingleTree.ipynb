{
 "cells": [
  {
   "cell_type": "code",
   "execution_count": 32,
   "metadata": {},
   "outputs": [],
   "source": [
    "import pandas as pd\n",
    "from sklearn import tree\n",
    "from sklearn import metrics\n",
    "from sklearn.metrics import confusion_matrix, classification_report, precision_recall_curve, PrecisionRecallDisplay\n",
    "from sklearn.model_selection import train_test_split, cross_val_score"
   ]
  },
  {
   "cell_type": "code",
   "execution_count": 4,
   "metadata": {},
   "outputs": [],
   "source": [
    "cleanedData = pd.read_csv('./Fully-Cleaned-Data.csv')"
   ]
  },
  {
   "cell_type": "code",
   "execution_count": 5,
   "metadata": {},
   "outputs": [
    {
     "name": "stdout",
     "output_type": "stream",
     "text": [
      "(2047, 19)\n",
      "['AgeatFV' 'DiseasedurationatFV' 'EDSS_FV' 'PYRAMIDAL_FUNCTION'\n",
      " 'CEREBELLAR_FUNCTION' 'BRAINSTEM_FUNCTION' 'SENSORY_FUNCTION'\n",
      " 'BOWEL_BLADDER_FUNCTION' 'VISUAL_FUNCTION' 'MENTAL_FUNCTION'\n",
      " 'TotalnumberofrelapsesbeforeFV' 'Numberofrelapsesinthe3yearsbeforeFV'\n",
      " 'Numberofrelapsesinthe1yearbeforeFV' 'timeSinceLastAttack'\n",
      " 'Future Relapse Binary' 'TreatmentBeforeFV' 'RelapseInYearBeforeFVBinary'\n",
      " 'RelapseInThe3YearsBeforeFVBinary' 'Treatment with Injectable Med']\n",
      "(2047, 29)\n",
      "['SEX_F' 'SEX_M' 'RACE_DESC_American Indian or Alaska Native'\n",
      " 'RACE_DESC_Asian' 'RACE_DESC_Black or African American'\n",
      " 'RACE_DESC_East Asian and South-East' 'RACE_DESC_More than one race'\n",
      " 'RACE_DESC_Native Hawaiian or Other Pacific Islander'\n",
      " 'RACE_DESC_South Asian' 'RACE_DESC_Unknown or not reported'\n",
      " 'RACE_DESC_White' 'ETHNICITY_DESC_Hispanic or latino'\n",
      " 'ETHNICITY_DESC_Not hispanic or latino' 'ETHNICITY_DESC_Unknown'\n",
      " 'FAMILY_MS_N' 'FAMILY_MS_U' 'FAMILY_MS_Y' 'SMOKING_EVER_N'\n",
      " 'SMOKING_EVER_Y' 'DISEASE_CATEGORY_DESC_FV_Clinically Isolated Syndrome'\n",
      " 'DISEASE_CATEGORY_DESC_FV_Relapsing-Remitting MS'\n",
      " 'DISEASE_CATEGORY_DESC_FV_Secondary Progressive MS'\n",
      " 'DISEASE_CATEGORY_DESC_FV_Suspected MS' 'NewT2lesionYearBeforeFV_N'\n",
      " 'NewT2lesionYearBeforeFV_U' 'NewT2lesionYearBeforeFV_Y'\n",
      " 'NewGadLesionYearBeforeFV_N' 'NewGadLesionYearBeforeFV_U'\n",
      " 'NewGadLesionYearBeforeFV_Y']\n"
     ]
    }
   ],
   "source": [
    "categoricalColumns = cleanedData.select_dtypes(include=['object']).columns.tolist()\n",
    "numericalData = cleanedData.drop(columns=categoricalColumns)\n",
    "oneHotData = pd.get_dummies(cleanedData[categoricalColumns])\n",
    "print(numericalData.shape)\n",
    "print(numericalData.columns.values)\n",
    "print(oneHotData.shape)\n",
    "print(oneHotData.columns.values)"
   ]
  },
  {
   "cell_type": "code",
   "execution_count": 6,
   "metadata": {},
   "outputs": [
    {
     "name": "stdout",
     "output_type": "stream",
     "text": [
      "(2047, 48)\n"
     ]
    }
   ],
   "source": [
    "cleanedDataOneHotEncoded = pd.concat([numericalData, oneHotData], axis=1)\n",
    "print(cleanedDataOneHotEncoded.shape)"
   ]
  },
  {
   "cell_type": "code",
   "execution_count": 85,
   "metadata": {},
   "outputs": [
    {
     "name": "stdout",
     "output_type": "stream",
     "text": [
      "True Class Breakdown\n",
      "Future Relapse Binary\n",
      "0    1315\n",
      "1     732\n",
      "Name: count, dtype: int64\n",
      "Predicted Class Breakdown\n",
      "0\n",
      "0    296\n",
      "1    216\n",
      "Name: count, dtype: int64\n"
     ]
    }
   ],
   "source": [
    "import warnings\n",
    "warnings.filterwarnings('ignore')\n",
    "\n",
    "treeClassifier = tree.DecisionTreeClassifier(max_depth=5, class_weight='balanced')\n",
    "\n",
    "\n",
    "indicator = cleanedDataOneHotEncoded['Future Relapse Binary']\n",
    "X = cleanedDataOneHotEncoded.drop(['Future Relapse Binary'], axis=1)\n",
    "XTrain, XTest, yTrain, yTest = train_test_split(X, indicator)\n",
    "treeModel = treeClassifier.fit(XTrain, yTrain)\n",
    "\n",
    "testPredictions = pd.DataFrame(treeModel.predict(XTest))\n",
    "print('True Class Breakdown')\n",
    "print(indicator.value_counts())\n",
    "print('Predicted Class Breakdown')\n",
    "print(testPredictions.value_counts())\n",
    "\n"
   ]
  },
  {
   "cell_type": "code",
   "execution_count": null,
   "metadata": {},
   "outputs": [
    {
     "name": "stdout",
     "output_type": "stream",
     "text": [
      "[CV] END ................................ score: (test=0.597) total time=   0.0s\n",
      "[CV] END ................................ score: (test=0.558) total time=   0.0s\n",
      "[CV] END ................................ score: (test=0.630) total time=   0.0s\n",
      "[CV] END ................................ score: (test=0.513) total time=   0.0s\n",
      "[CV] END ................................ score: (test=0.571) total time=   0.0s\n",
      "[CV] END ................................ score: (test=0.582) total time=   0.0s\n",
      "[CV] END ................................ score: (test=0.556) total time=   0.0s\n",
      "[CV] END ................................ score: (test=0.627) total time=   0.0s\n",
      "[CV] END ................................ score: (test=0.523) total time=   0.0s\n",
      "[CV] END ................................ score: (test=0.562) total time=   0.0s\n",
      "[0.5974026  0.55844156 0.62987013 0.51298701 0.57142857 0.58169935\n",
      " 0.55555556 0.62745098 0.52287582 0.5620915 ]\n"
     ]
    }
   ],
   "source": [
    "scores = cross_val_score(treeClassifier, XTrain, yTrain, cv=10, verbose=3)\n",
    "print(scores)"
   ]
  },
  {
   "cell_type": "code",
   "execution_count": 31,
   "metadata": {},
   "outputs": [
    {
     "name": "stdout",
     "output_type": "stream",
     "text": [
      "0.5560975609756098\n",
      "0.5962357954545454\n",
      "0.44642857142857145\n",
      "[[167 217]\n",
      " [ 56 175]]\n",
      "              precision    recall  f1-score   support\n",
      "\n",
      "           0       0.75      0.43      0.55       384\n",
      "           1       0.45      0.76      0.56       231\n",
      "\n",
      "    accuracy                           0.56       615\n",
      "   macro avg       0.60      0.60      0.56       615\n",
      "weighted avg       0.64      0.56      0.55       615\n",
      "\n"
     ]
    }
   ],
   "source": [
    "testAcc = metrics.accuracy_score(yTest, testPredictions)\n",
    "testBalancedAccScore = metrics.balanced_accuracy_score(yTest, testPredictions)\n",
    "testPrecScore = metrics.precision_score(yTest, testPredictions)\n",
    "print(testAcc)\n",
    "print(testBalancedAccScore)\n",
    "print(testPrecScore)\n",
    "\n",
    "testCM = confusion_matrix(yTest, testPredictions)\n",
    "print(testCM)\n",
    "\n",
    "testCR = classification_report(yTest, testPredictions)\n",
    "print(testCR)"
   ]
  },
  {
   "cell_type": "code",
   "execution_count": 28,
   "metadata": {},
   "outputs": [
    {
     "data": {
      "text/plain": [
       "<sklearn.metrics._plot.precision_recall_curve.PrecisionRecallDisplay at 0x13f8b7b60>"
      ]
     },
     "execution_count": 28,
     "metadata": {},
     "output_type": "execute_result"
    },
    {
     "data": {
      "image/png": "[encoded data removed]",
      "text/plain": [
       "<Figure size 640x480 with 1 Axes>"
      ]
     },
     "metadata": {},
     "output_type": "display_data"
    }
   ],
   "source": [
    "precision, recall, _ = precision_recall_curve(yTest, testPredictions)\n",
    "disp = PrecisionRecallDisplay(precision=precision, recall=recall)\n",
    "disp.plot()"
   ]
  },
  {
   "cell_type": "code",
   "execution_count": 8,
   "metadata": {},
   "outputs": [
    {
     "ename": "NameError",
     "evalue": "name 'predictions' is not defined",
     "output_type": "error",
     "traceback": [
      "\u001b[0;31m---------------------------------------------------------------------------\u001b[0m",
      "\u001b[0;31mNameError\u001b[0m                                 Traceback (most recent call last)",
      "Cell \u001b[0;32mIn[8], line 1\u001b[0m\n\u001b[0;32m----> 1\u001b[0m accScore \u001b[38;5;241m=\u001b[39m metrics\u001b[38;5;241m.\u001b[39maccuracy_score(indicator, \u001b[43mpredictions\u001b[49m)\n\u001b[1;32m      2\u001b[0m balancedAccScore \u001b[38;5;241m=\u001b[39m metrics\u001b[38;5;241m.\u001b[39mbalanced_accuracy_score(indicator, predictions)\n\u001b[1;32m      3\u001b[0m precScore \u001b[38;5;241m=\u001b[39m metrics\u001b[38;5;241m.\u001b[39mprecision_score(indicator, predictions)\n",
      "\u001b[0;31mNameError\u001b[0m: name 'predictions' is not defined"
     ]
    }
   ],
   "source": [
    "accScore = metrics.accuracy_score(indicator, predictions)\n",
    "balancedAccScore = metrics.balanced_accuracy_score(indicator, predictions)\n",
    "precScore = metrics.precision_score(indicator, predictions)\n",
    "recScore = metrics.recall_score(indicator, predictions)\n",
    "yeet = metrics.f1_score(indicator, predictions)\n",
    "### add auc score (??)\n",
    "print(accScore)\n",
    "print(balancedAccScore)\n",
    "print(precScore)\n",
    "print(recScore)\n",
    "print(yeet)\n",
    "\n",
    "cm = confusion_matrix(indicator, predictions)\n",
    "print(cm)\n",
    "\n",
    "cr = classification_report(indicator, predictions)\n",
    "print(cr)"
   ]
  }
 ],
 "metadata": {
  "kernelspec": {
   "display_name": ".venv",
   "language": "python",
   "name": "python3"
  },
  "language_info": {
   "codemirror_mode": {
    "name": "ipython",
    "version": 3
   },
   "file_extension": ".py",
   "mimetype": "text/x-python",
   "name": "python",
   "nbconvert_exporter": "python",
   "pygments_lexer": "ipython3",
   "version": "3.12.6"
  }
 },
 "nbformat": 4,
 "nbformat_minor": 2
}
