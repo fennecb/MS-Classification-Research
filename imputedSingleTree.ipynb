{
 "cells": [
  {
   "cell_type": "code",
   "execution_count": 43,
   "metadata": {},
   "outputs": [],
   "source": [
    "import pandas as pd\n",
    "from sklearn import tree\n",
    "from sklearn import metrics\n",
    "from sklearn.metrics import confusion_matrix, classification_report"
   ]
  },
  {
   "cell_type": "code",
   "execution_count": 6,
   "metadata": {},
   "outputs": [],
   "source": [
    "cleanedData = pd.read_csv('./Fully-Cleaned-Data.csv')"
   ]
  },
  {
   "cell_type": "code",
   "execution_count": 7,
   "metadata": {},
   "outputs": [
    {
     "name": "stdout",
     "output_type": "stream",
     "text": [
      "(2047, 19)\n",
      "['AgeatFV' 'DiseasedurationatFV' 'EDSS_FV' 'PYRAMIDAL_FUNCTION'\n",
      " 'CEREBELLAR_FUNCTION' 'BRAINSTEM_FUNCTION' 'SENSORY_FUNCTION'\n",
      " 'BOWEL_BLADDER_FUNCTION' 'VISUAL_FUNCTION' 'MENTAL_FUNCTION'\n",
      " 'TotalnumberofrelapsesbeforeFV' 'Numberofrelapsesinthe3yearsbeforeFV'\n",
      " 'Numberofrelapsesinthe1yearbeforeFV' 'timeSinceLastAttack'\n",
      " 'Future Relapse Binary' 'TreatmentBeforeFV' 'RelapseInYearBeforeFVBinary'\n",
      " 'RelapseInThe3YearsBeforeFVBinary' 'Treatment with Injectable Med']\n",
      "(2047, 29)\n",
      "['SEX_F' 'SEX_M' 'RACE_DESC_American Indian or Alaska Native'\n",
      " 'RACE_DESC_Asian' 'RACE_DESC_Black or African American'\n",
      " 'RACE_DESC_East Asian and South-East' 'RACE_DESC_More than one race'\n",
      " 'RACE_DESC_Native Hawaiian or Other Pacific Islander'\n",
      " 'RACE_DESC_South Asian' 'RACE_DESC_Unknown or not reported'\n",
      " 'RACE_DESC_White' 'ETHNICITY_DESC_Hispanic or latino'\n",
      " 'ETHNICITY_DESC_Not hispanic or latino' 'ETHNICITY_DESC_Unknown'\n",
      " 'FAMILY_MS_N' 'FAMILY_MS_U' 'FAMILY_MS_Y' 'SMOKING_EVER_N'\n",
      " 'SMOKING_EVER_Y' 'DISEASE_CATEGORY_DESC_FV_Clinically Isolated Syndrome'\n",
      " 'DISEASE_CATEGORY_DESC_FV_Relapsing-Remitting MS'\n",
      " 'DISEASE_CATEGORY_DESC_FV_Secondary Progressive MS'\n",
      " 'DISEASE_CATEGORY_DESC_FV_Suspected MS' 'NewT2lesionYearBeforeFV_N'\n",
      " 'NewT2lesionYearBeforeFV_U' 'NewT2lesionYearBeforeFV_Y'\n",
      " 'NewGadLesionYearBeforeFV_N' 'NewGadLesionYearBeforeFV_U'\n",
      " 'NewGadLesionYearBeforeFV_Y']\n"
     ]
    }
   ],
   "source": [
    "categoricalColumns = cleanedData.select_dtypes(include=['object']).columns.tolist()\n",
    "numericalData = cleanedData.drop(columns=categoricalColumns)\n",
    "oneHotData = pd.get_dummies(cleanedData[categoricalColumns])\n",
    "print(numericalData.shape)\n",
    "print(numericalData.columns.values)\n",
    "print(oneHotData.shape)\n",
    "print(oneHotData.columns.values)"
   ]
  },
  {
   "cell_type": "code",
   "execution_count": 8,
   "metadata": {},
   "outputs": [
    {
     "name": "stdout",
     "output_type": "stream",
     "text": [
      "(2047, 48)\n"
     ]
    }
   ],
   "source": [
    "cleanedDataOneHotEncoded = pd.concat([numericalData, oneHotData], axis=1)\n",
    "print(cleanedDataOneHotEncoded.shape)"
   ]
  },
  {
   "cell_type": "code",
   "execution_count": 45,
   "metadata": {},
   "outputs": [
    {
     "name": "stdout",
     "output_type": "stream",
     "text": [
      "True Class Breakdown\n",
      "Future Relapse Binary\n",
      "0    1315\n",
      "1     732\n",
      "Name: count, dtype: int64\n",
      "Predicted Class Breakdown\n",
      "0\n",
      "1    1298\n",
      "0     749\n",
      "Name: count, dtype: int64\n"
     ]
    }
   ],
   "source": [
    "import warnings\n",
    "warnings.filterwarnings('ignore')\n",
    "\n",
    "treeClassifier = tree.DecisionTreeClassifier(max_depth=5, class_weight='balanced')\n",
    "indicator = cleanedDataOneHotEncoded['Future Relapse Binary']\n",
    "X = cleanedDataOneHotEncoded.drop(['Future Relapse Binary'], axis=1)\n",
    "treeModel = treeClassifier.fit(X, indicator)\n",
    "\n",
    "predictions = pd.DataFrame(treeModel.predict(X))\n",
    "print('True Class Breakdown')\n",
    "print(indicator.value_counts())\n",
    "print('Predicted Class Breakdown')\n",
    "print(predictions.value_counts())\n",
    "\n"
   ]
  },
  {
   "cell_type": "code",
   "execution_count": 46,
   "metadata": {},
   "outputs": [
    {
     "name": "stdout",
     "output_type": "stream",
     "text": [
      "0.6072300928187592\n",
      "0.47226502311248075\n",
      "0.837431693989071\n",
      "0.6039408866995074\n",
      "[[630 685]\n",
      " [119 613]]\n",
      "              precision    recall  f1-score   support\n",
      "\n",
      "           0       0.84      0.48      0.61      1315\n",
      "           1       0.47      0.84      0.60       732\n",
      "\n",
      "    accuracy                           0.61      2047\n",
      "   macro avg       0.66      0.66      0.61      2047\n",
      "weighted avg       0.71      0.61      0.61      2047\n",
      "\n"
     ]
    }
   ],
   "source": [
    "accScore = metrics.accuracy_score(indicator, predictions)\n",
    "precScore = metrics.precision_score(indicator, predictions)\n",
    "recScore = metrics.recall_score(indicator, predictions)\n",
    "yeet = metrics.f1_score(indicator, predictions)\n",
    "print(accScore)\n",
    "print(precScore)\n",
    "print(recScore)\n",
    "print(yeet)\n",
    "\n",
    "cm = confusion_matrix(indicator, predictions)\n",
    "print(cm)\n",
    "\n",
    "cr = classification_report(indicator, predictions)\n",
    "print(cr)"
   ]
  }
 ],
 "metadata": {
  "kernelspec": {
   "display_name": ".venv",
   "language": "python",
   "name": "python3"
  },
  "language_info": {
   "codemirror_mode": {
    "name": "ipython",
    "version": 3
   },
   "file_extension": ".py",
   "mimetype": "text/x-python",
   "name": "python",
   "nbconvert_exporter": "python",
   "pygments_lexer": "ipython3",
   "version": "3.12.1"
  }
 },
 "nbformat": 4,
 "nbformat_minor": 2
}
