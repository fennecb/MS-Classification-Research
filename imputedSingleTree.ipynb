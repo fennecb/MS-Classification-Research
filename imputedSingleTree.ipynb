{
 "cells": [
  {
   "cell_type": "code",
   "execution_count": 117,
   "metadata": {},
   "outputs": [],
   "source": [
    "import pandas as pd\n",
    "from sklearn import tree\n",
    "from sklearn import metrics\n",
    "from sklearn.metrics import confusion_matrix, classification_report, precision_recall_curve, PrecisionRecallDisplay\n",
    "from sklearn.model_selection import train_test_split, cross_val_score, cross_validate\n",
    "from pprint import pprint"
   ]
  },
  {
   "cell_type": "code",
   "execution_count": 108,
   "metadata": {},
   "outputs": [],
   "source": [
    "cleanedData = pd.read_csv('../Fully-Cleaned-Data.csv')"
   ]
  },
  {
   "cell_type": "code",
   "execution_count": 109,
   "metadata": {},
   "outputs": [],
   "source": [
    "categoricalColumns = cleanedData.select_dtypes(include=['object']).columns.tolist()\n",
    "numericalData = cleanedData.drop(columns=categoricalColumns)\n",
    "oneHotData = pd.get_dummies(cleanedData[categoricalColumns])"
   ]
  },
  {
   "cell_type": "code",
   "execution_count": 110,
   "metadata": {},
   "outputs": [
    {
     "name": "stdout",
     "output_type": "stream",
     "text": [
      "(2047, 48)\n"
     ]
    }
   ],
   "source": [
    "cleanedDataOneHotEncoded = pd.concat([numericalData, oneHotData], axis=1)\n",
    "print(cleanedDataOneHotEncoded.shape)"
   ]
  },
  {
   "cell_type": "code",
   "execution_count": 111,
   "metadata": {},
   "outputs": [
    {
     "name": "stdout",
     "output_type": "stream",
     "text": [
      "True Class Breakdown\n",
      "Future Relapse Binary\n",
      "0    321\n",
      "1    191\n",
      "Name: count, dtype: int64\n",
      "Predicted Class Breakdown\n",
      "0\n",
      "0    325\n",
      "1    187\n",
      "Name: count, dtype: int64\n"
     ]
    }
   ],
   "source": [
    "import warnings\n",
    "warnings.filterwarnings('ignore')\n",
    "\n",
    "treeClassifier = tree.DecisionTreeClassifier(max_depth=5, class_weight='balanced')\n",
    "\n",
    "indicator = cleanedDataOneHotEncoded['Future Relapse Binary']\n",
    "X = cleanedDataOneHotEncoded.drop(['Future Relapse Binary'], axis=1)\n",
    "XTrain, XTest, yTrain, yTest = train_test_split(X, indicator)\n",
    "treeModel = treeClassifier.fit(XTrain, yTrain)\n",
    "\n",
    "testPredictions = pd.DataFrame(treeModel.predict(XTest))\n",
    "print('True Class Breakdown')\n",
    "print(yTest.value_counts())\n",
    "print('Predicted Class Breakdown')\n",
    "print(testPredictions.value_counts())\n",
    "\n"
   ]
  },
  {
   "cell_type": "code",
   "execution_count": 112,
   "metadata": {},
   "outputs": [
    {
     "name": "stdout",
     "output_type": "stream",
     "text": [
      "[CV] END ................................ score: (test=0.558) total time=   0.0s\n",
      "[CV] END ................................ score: (test=0.578) total time=   0.0s\n",
      "[CV] END ................................ score: (test=0.656) total time=   0.0s\n",
      "[CV] END ................................ score: (test=0.571) total time=   0.0s\n",
      "[CV] END ................................ score: (test=0.565) total time=   0.0s\n",
      "[CV] END ................................ score: (test=0.621) total time=   0.0s\n",
      "[CV] END ................................ score: (test=0.641) total time=   0.0s\n",
      "[CV] END ................................ score: (test=0.588) total time=   0.0s\n",
      "[CV] END ................................ score: (test=0.536) total time=   0.0s\n",
      "[CV] END ................................ score: (test=0.582) total time=   0.0s\n",
      "[0.55844156 0.57792208 0.65584416 0.57142857 0.56493506 0.62091503\n",
      " 0.64052288 0.58823529 0.53594771 0.58169935]\n"
     ]
    }
   ],
   "source": [
    "scores = cross_val_score(treeClassifier, XTrain, yTrain, cv=10, verbose=3)\n",
    "print(scores)"
   ]
  },
  {
   "cell_type": "code",
   "execution_count": 120,
   "metadata": {},
   "outputs": [
    {
     "name": "stdout",
     "output_type": "stream",
     "text": [
      "[0.57792208 0.58441558 0.67532468 0.59090909 0.58441558 0.59477124\n",
      " 0.61437908 0.60130719 0.54248366 0.56862745]\n"
     ]
    }
   ],
   "source": [
    "CVscores = cross_validate(treeClassifier, XTrain, yTrain, cv=10)\n",
    "print(CVscores['test_score'])"
   ]
  },
  {
   "cell_type": "code",
   "execution_count": 113,
   "metadata": {},
   "outputs": [
    {
     "name": "stdout",
     "output_type": "stream",
     "text": [
      "0.5703125\n",
      "0.5385819836570925\n",
      "0.42245989304812837\n",
      "[[213 108]\n",
      " [112  79]]\n",
      "              precision    recall  f1-score   support\n",
      "\n",
      "           0       0.66      0.66      0.66       321\n",
      "           1       0.42      0.41      0.42       191\n",
      "\n",
      "    accuracy                           0.57       512\n",
      "   macro avg       0.54      0.54      0.54       512\n",
      "weighted avg       0.57      0.57      0.57       512\n",
      "\n"
     ]
    }
   ],
   "source": [
    "testAcc = metrics.accuracy_score(yTest, testPredictions)\n",
    "testBalancedAccScore = metrics.balanced_accuracy_score(yTest, testPredictions)\n",
    "testPrecScore = metrics.precision_score(yTest, testPredictions)\n",
    "print(testAcc)\n",
    "print(testBalancedAccScore)\n",
    "print(testPrecScore)\n",
    "\n",
    "testCM = confusion_matrix(yTest, testPredictions)\n",
    "print(testCM)\n",
    "\n",
    "testCR = classification_report(yTest, testPredictions)\n",
    "print(testCR)"
   ]
  },
  {
   "cell_type": "code",
   "execution_count": 114,
   "metadata": {},
   "outputs": [
    {
     "data": {
      "text/plain": [
       "<sklearn.metrics._plot.precision_recall_curve.PrecisionRecallDisplay at 0x15aa1449f40>"
      ]
     },
     "execution_count": 114,
     "metadata": {},
     "output_type": "execute_result"
    },
    {
     "data": {
      "image/png": "[encoded data removed]",
      "text/plain": [
       "<Figure size 640x480 with 1 Axes>"
      ]
     },
     "metadata": {},
     "output_type": "display_data"
    }
   ],
   "source": [
    "precision, recall, _ = precision_recall_curve(yTest, testPredictions)\n",
    "disp = PrecisionRecallDisplay(precision=precision, recall=recall)\n",
    "disp.plot()"
   ]
  },
  {
   "cell_type": "code",
   "execution_count": 115,
   "metadata": {},
   "outputs": [
    {
     "name": "stdout",
     "output_type": "stream",
     "text": [
      "0.5703125\n",
      "0.5385819836570925\n",
      "0.42245989304812837\n",
      "0.41361256544502617\n",
      "0.41798941798941797\n",
      "[[213 108]\n",
      " [112  79]]\n",
      "              precision    recall  f1-score   support\n",
      "\n",
      "           0       0.66      0.66      0.66       321\n",
      "           1       0.42      0.41      0.42       191\n",
      "\n",
      "    accuracy                           0.57       512\n",
      "   macro avg       0.54      0.54      0.54       512\n",
      "weighted avg       0.57      0.57      0.57       512\n",
      "\n"
     ]
    }
   ],
   "source": [
    "accScore = metrics.accuracy_score(yTest, testPredictions)\n",
    "balancedAccScore = metrics.balanced_accuracy_score(yTest, testPredictions)\n",
    "precScore = metrics.precision_score(yTest, testPredictions)\n",
    "recScore = metrics.recall_score(yTest, testPredictions)\n",
    "yeet = metrics.f1_score(yTest, testPredictions)\n",
    "### add auc score (??)\n",
    "print(accScore)\n",
    "print(balancedAccScore)\n",
    "print(precScore)\n",
    "print(recScore)\n",
    "print(yeet)\n",
    "\n",
    "cm = confusion_matrix(yTest, testPredictions)\n",
    "print(cm)\n",
    "\n",
    "cr = classification_report(yTest, testPredictions)\n",
    "print(cr)"
   ]
  }
 ],
 "metadata": {
  "kernelspec": {
   "display_name": ".venv",
   "language": "python",
   "name": "python3"
  },
  "language_info": {
   "codemirror_mode": {
    "name": "ipython",
    "version": 3
   },
   "file_extension": ".py",
   "mimetype": "text/x-python",
   "name": "python",
   "nbconvert_exporter": "python",
   "pygments_lexer": "ipython3",
   "version": "3.12.1"
  }
 },
 "nbformat": 4,
 "nbformat_minor": 2
}
