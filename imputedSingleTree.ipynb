{
 "cells": [
  {
   "cell_type": "code",
   "execution_count": 21,
   "metadata": {},
   "outputs": [],
   "source": [
    "import pandas as pd\n",
    "from sklearn import tree\n",
    "from sklearn import metrics"
   ]
  },
  {
   "cell_type": "code",
   "execution_count": 13,
   "metadata": {},
   "outputs": [],
   "source": [
    "cleanedData = pd.read_csv('./Fully-Cleaned-Data.csv')"
   ]
  },
  {
   "cell_type": "code",
   "execution_count": 15,
   "metadata": {},
   "outputs": [
    {
     "name": "stdout",
     "output_type": "stream",
     "text": [
      "(2047, 19)\n",
      "['AgeatFV' 'DiseasedurationatFV' 'EDSS_FV' 'PYRAMIDAL_FUNCTION'\n",
      " 'CEREBELLAR_FUNCTION' 'BRAINSTEM_FUNCTION' 'SENSORY_FUNCTION'\n",
      " 'BOWEL_BLADDER_FUNCTION' 'VISUAL_FUNCTION' 'MENTAL_FUNCTION'\n",
      " 'TotalnumberofrelapsesbeforeFV' 'Numberofrelapsesinthe3yearsbeforeFV'\n",
      " 'Numberofrelapsesinthe1yearbeforeFV' 'timeSinceLastAttack'\n",
      " 'Future Relapse Binary' 'TreatmentBeforeFV' 'RelapseInYearBeforeFVBinary'\n",
      " 'RelapseInThe3YearsBeforeFVBinary' 'Treatment with Injectable Med']\n",
      "(2047, 29)\n",
      "['SEX_F' 'SEX_M' 'RACE_DESC_American Indian or Alaska Native'\n",
      " 'RACE_DESC_Asian' 'RACE_DESC_Black or African American'\n",
      " 'RACE_DESC_East Asian and South-East' 'RACE_DESC_More than one race'\n",
      " 'RACE_DESC_Native Hawaiian or Other Pacific Islander'\n",
      " 'RACE_DESC_South Asian' 'RACE_DESC_Unknown or not reported'\n",
      " 'RACE_DESC_White' 'ETHNICITY_DESC_Hispanic or latino'\n",
      " 'ETHNICITY_DESC_Not hispanic or latino' 'ETHNICITY_DESC_Unknown'\n",
      " 'FAMILY_MS_N' 'FAMILY_MS_U' 'FAMILY_MS_Y' 'SMOKING_EVER_N'\n",
      " 'SMOKING_EVER_Y' 'DISEASE_CATEGORY_DESC_FV_Clinically Isolated Syndrome'\n",
      " 'DISEASE_CATEGORY_DESC_FV_Relapsing-Remitting MS'\n",
      " 'DISEASE_CATEGORY_DESC_FV_Secondary Progressive MS'\n",
      " 'DISEASE_CATEGORY_DESC_FV_Suspected MS' 'NewT2lesionYearBeforeFV_N'\n",
      " 'NewT2lesionYearBeforeFV_U' 'NewT2lesionYearBeforeFV_Y'\n",
      " 'NewGadLesionYearBeforeFV_N' 'NewGadLesionYearBeforeFV_U'\n",
      " 'NewGadLesionYearBeforeFV_Y']\n"
     ]
    }
   ],
   "source": [
    "categoricalColumns = cleanedData.select_dtypes(include=['object']).columns.tolist()\n",
    "numericalData = cleanedData.drop(columns=categoricalColumns)\n",
    "oneHotData = pd.get_dummies(cleanedData[categoricalColumns])\n",
    "print(numericalData.shape)\n",
    "print(numericalData.columns.values)\n",
    "print(oneHotData.shape)\n",
    "print(oneHotData.columns.values)"
   ]
  },
  {
   "cell_type": "code",
   "execution_count": 20,
   "metadata": {},
   "outputs": [
    {
     "name": "stdout",
     "output_type": "stream",
     "text": [
      "(2047, 48)\n"
     ]
    }
   ],
   "source": [
    "cleanedDataOneHotEncoded = pd.concat([numericalData, oneHotData], axis=1)\n",
    "print(cleanedDataOneHotEncoded.shape)"
   ]
  },
  {
   "cell_type": "code",
   "execution_count": null,
   "metadata": {},
   "outputs": [
    {
     "name": "stdout",
     "output_type": "stream",
     "text": [
      "Difference\n",
      "0    1230\n",
      "1     817\n",
      "Name: count, dtype: int64\n",
      "Accuracy: 60.09%\n"
     ]
    }
   ],
   "source": [
    "import warnings\n",
    "warnings.filterwarnings('ignore')\n",
    "\n",
    "treeClassifier = tree.DecisionTreeClassifier(max_depth=5)\n",
    "indicator = cleanedDataOneHotEncoded['Future Relapse Binary']\n",
    "X = cleanedDataOneHotEncoded.drop(['Future Relapse Binary'], axis=1)\n",
    "treeModel = treeClassifier.fit(X, indicator)\n",
    "\n",
    "classificationResults = pd.DataFrame(columns=['Real Label', 'Predicted Label', 'Difference'])\n",
    "classificationResultsArray = []\n",
    "\n",
    "for _, row in cleanedDataOneHotEncoded.iterrows():\n",
    "    classificationResultsArray.append(treeModel.predict([row[1:]])[0])\n",
    "\n",
    "classificationResults['Predicted Label'] = pd.Series(classificationResultsArray)\n",
    "classificationResults['Real Label'] = cleanedDataOneHotEncoded['Future Relapse Binary']\n",
    "classificationResults['Difference'] = abs(classificationResults['Real Label'] - classificationResults['Predicted Label'])\n",
    "diffValueCounts = classificationResults['Difference'].value_counts()\n",
    "print(diffValueCounts)\n",
    "print(f'Accuracy: {(diffValueCounts[0]/(diffValueCounts[0] + diffValueCounts[1]))*100:.2f}%')"
   ]
  },
  {
   "cell_type": "code",
   "execution_count": 62,
   "metadata": {},
   "outputs": [
    {
     "name": "stdout",
     "output_type": "stream",
     "text": [
      "0.40093240093240096\n",
      "0.23497267759562843\n"
     ]
    }
   ],
   "source": [
    "precScore = metrics.precision_score(cleanedDataOneHotEncoded['Future Relapse Binary'], classificationResults['Predicted Label'])\n",
    "recScore = metrics.recall_score(cleanedDataOneHotEncoded['Future Relapse Binary'], classificationResults['Predicted Label'])\n",
    "print(precScore)\n",
    "print(recScore)"
   ]
  }
 ],
 "metadata": {
  "kernelspec": {
   "display_name": ".venv",
   "language": "python",
   "name": "python3"
  },
  "language_info": {
   "codemirror_mode": {
    "name": "ipython",
    "version": 3
   },
   "file_extension": ".py",
   "mimetype": "text/x-python",
   "name": "python",
   "nbconvert_exporter": "python",
   "pygments_lexer": "ipython3",
   "version": "3.12.1"
  }
 },
 "nbformat": 4,
 "nbformat_minor": 2
}
