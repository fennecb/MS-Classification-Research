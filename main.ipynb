{
 "cells": [
  {
   "cell_type": "code",
   "execution_count": 169,
   "metadata": {},
   "outputs": [],
   "source": [
    "### Imports\n",
    "import pandas as pd\n",
    "import numpy as np\n",
    "import scipy\n",
    "from sklearn.preprocessing import OneHotEncoder\n",
    "from sklearn.experimental import enable_iterative_imputer\n",
    "from sklearn.impute import IterativeImputer, KNNImputer\n",
    "from sklearn.neighbors import KNeighborsRegressor\n",
    "from sklearn.ensemble import RandomForestClassifier\n",
    "from sklearn import tree\n",
    "import matplotlib"
   ]
  },
  {
   "cell_type": "code",
   "execution_count": 170,
   "metadata": {},
   "outputs": [],
   "source": [
    "### Load File\n",
    "fullData = pd.read_csv('De-identified ARR Dataset - new.csv')"
   ]
  },
  {
   "cell_type": "code",
   "execution_count": 171,
   "metadata": {},
   "outputs": [
    {
     "name": "stdout",
     "output_type": "stream",
     "text": [
      "['AgeatFV' 'SEX' 'RACE_DESC' 'ETHNICITY_DESC' 'FAMILY_MS' 'SMOKING_EVER'\n",
      " 'DiseasedurationatFV' 'DISEASE_CATEGORY_DESC_FV' 'EDSS_FV'\n",
      " 'PYRAMIDAL_FUNCTION' 'CEREBELLAR_FUNCTION' 'BRAINSTEM_FUNCTION'\n",
      " 'SENSORY_FUNCTION' 'BOWEL_BLADDER_FUNCTION' 'VISUAL_FUNCTION'\n",
      " 'MENTAL_FUNCTION' 'TotalnumberofrelapsesbeforeFV'\n",
      " 'Numberofrelapsesinthe3yearsbeforeFV'\n",
      " 'Numberofrelapsesinthe1yearbeforeFV' 'timeSinceLastAttack'\n",
      " 'Future Relapse Binary' 'TreatmentBeforeFV' 'RelapseInYearBeforeFVBinary'\n",
      " 'RelapseInThe3YearsBeforeFVBinary' 'Treatment with Injectable Med'\n",
      " 'NewT2lesionYearBeforeFV' 'NewGadLesionYearBeforeFV']\n"
     ]
    }
   ],
   "source": [
    "### Remove columns which either have all/mostly blank values\n",
    "### or are the values we are attempting to predict\n",
    "headers = list(fullData.columns.values)\n",
    "badHeaders = [\n",
    "    'id', 'BMI', 'Number of Future Relapses 1monthto3years', \n",
    "    'Number of Future Relapses 1yrto3yrs', \n",
    "    'NfLValue', 'HighNfL Binary'\n",
    "]\n",
    "for header in badHeaders:\n",
    "    headers.remove(header)\n",
    "\n",
    "trimmedData = fullData[headers]\n",
    "print(trimmedData.columns.values)"
   ]
  },
  {
   "cell_type": "code",
   "execution_count": 172,
   "metadata": {},
   "outputs": [
    {
     "name": "stdout",
     "output_type": "stream",
     "text": [
      "DiseasedurationatFV         1\n",
      "EDSS_FV                   109\n",
      "PYRAMIDAL_FUNCTION         98\n",
      "CEREBELLAR_FUNCTION        99\n",
      "BRAINSTEM_FUNCTION        100\n",
      "SENSORY_FUNCTION           99\n",
      "BOWEL_BLADDER_FUNCTION    102\n",
      "VISUAL_FUNCTION            99\n",
      "MENTAL_FUNCTION            99\n",
      "dtype: int64\n"
     ]
    }
   ],
   "source": [
    "### Find Blank Values\n",
    "print(trimmedData.isna().sum()[trimmedData.isna().sum() > 0])"
   ]
  },
  {
   "cell_type": "markdown",
   "metadata": {},
   "source": [
    "From this, we can see that feature *DiseasedurationatFV* has exactly 1 blank value. We simply drop this row."
   ]
  },
  {
   "cell_type": "code",
   "execution_count": 173,
   "metadata": {},
   "outputs": [
    {
     "name": "stdout",
     "output_type": "stream",
     "text": [
      "EDSS_FV                   109\n",
      "PYRAMIDAL_FUNCTION         98\n",
      "CEREBELLAR_FUNCTION        99\n",
      "BRAINSTEM_FUNCTION        100\n",
      "SENSORY_FUNCTION           99\n",
      "BOWEL_BLADDER_FUNCTION    102\n",
      "VISUAL_FUNCTION            99\n",
      "MENTAL_FUNCTION            99\n",
      "dtype: int64\n",
      "(2191, 27)\n"
     ]
    }
   ],
   "source": [
    "trimmedData = trimmedData.dropna(subset=['DiseasedurationatFV'])\n",
    "print(trimmedData.isna().sum()[trimmedData.isna().sum() > 0])\n",
    "print(trimmedData.shape)"
   ]
  },
  {
   "cell_type": "code",
   "execution_count": 174,
   "metadata": {},
   "outputs": [],
   "source": [
    "# trimmedData2 = trimmedData.dropna(subset=['EDSS_FV'])\n",
    "# #newtrimmedData = trimmedData.dropna(subset=['EDSS_FV', 'PYRAMIDAL_FUNCTION', 'CEREBELLAR_FUNCTION', \n",
    "# #                                         'BRAINSTEM_FUNCTION', 'SENSORY_FUNCTION', 'BOWEL_BLADDER_FUNCTION', \n",
    "# #                                         'VISUAL_FUNCTION', 'MENTAL_FUNCTION'], thresh=7)\n",
    "# print(trimmedData2.isna().sum()[trimmedData2.isna().sum()>0])\n",
    "# print(trimmedData2.shape)"
   ]
  },
  {
   "cell_type": "code",
   "execution_count": 198,
   "metadata": {},
   "outputs": [
    {
     "name": "stdout",
     "output_type": "stream",
     "text": [
      "DISEASE_CATEGORY_DESC_FV  EDSS_FV  PYRAMIDAL_FUNCTION  CEREBELLAR_FUNCTION  BRAINSTEM_FUNCTION  SENSORY_FUNCTION  BOWEL_BLADDER_FUNCTION  VISUAL_FUNCTION  MENTAL_FUNCTION\n",
      "False                     False    False               False                False               False             False                   False            False              1993\n",
      "                          True     False               False                False               False             False                   False            False                93\n",
      "                          False    True                True                 True                True              True                    True             True                 80\n",
      "                          True     True                True                 True                True              True                    True             True                 16\n",
      "                          False    False               False                False               False             True                    False            False                 3\n",
      "                                                                                                                  False                   True             False                 2\n",
      "                                   True                True                 True                True              True                    False            True                  2\n",
      "                                   False               False                True                False             False                   False            False                 1\n",
      "                                                       True                 True                True              True                    True             True                  1\n",
      "Name: count, dtype: int64\n"
     ]
    }
   ],
   "source": [
    "print(trimmedData.iloc[::, 7:16].isna().value_counts())"
   ]
  },
  {
   "cell_type": "code",
   "execution_count": 176,
   "metadata": {},
   "outputs": [],
   "source": [
    "# encoder = OneHotEncoder()\n",
    "\n",
    "# trimmedData['RACE_DESC'] = pd.DataFrame(encoder.fit_transform(trimmedData[['RACE_DESC']]))\n",
    "# print(trimmedData['RACE_DESC'].value_counts)"
   ]
  },
  {
   "cell_type": "code",
   "execution_count": 177,
   "metadata": {},
   "outputs": [],
   "source": [
    "# imputer = KNNImputer(missing_values=np.nan, n_neighbors=5)\n",
    "\n",
    "# imputedData = imputer.fit_transform(trimmedData)"
   ]
  },
  {
   "cell_type": "code",
   "execution_count": null,
   "metadata": {},
   "outputs": [
    {
     "name": "stdout",
     "output_type": "stream",
     "text": [
      "(1993, 27)\n",
      "(1993, 11)\n",
      "(1993, 79)\n",
      "0       1\n",
      "1       1\n",
      "2       0\n",
      "3       1\n",
      "4       1\n",
      "       ..\n",
      "2187    1\n",
      "2188    0\n",
      "2189    0\n",
      "2190    1\n",
      "2191    1\n",
      "Name: Future Relapse Binary, Length: 1993, dtype: int64\n",
      "(1993, 90)\n"
     ]
    }
   ],
   "source": [
    "blanksRemoved = trimmedData.dropna()\n",
    "print(blanksRemoved.shape)\n",
    "categoricalColumns = blanksRemoved.select_dtypes(include=['object']).columns.to_list()\n",
    "remainingColumns = blanksRemoved.drop(columns=categoricalColumns)\n",
    "oneHots = pd.get_dummies(blanksRemoved[categoricalColumns])\n",
    "print(remainingColumns.shape)\n",
    "print(oneHots.shape)\n",
    "oneHotPlusNumerical = pd.concat([remainingColumns, oneHots],axis=1)\n",
    "print(oneHotPlusNumerical.shape)\n",
    "#print(oneHots)"
   ]
  },
  {
   "cell_type": "code",
   "execution_count": 179,
   "metadata": {},
   "outputs": [
    {
     "name": "stdout",
     "output_type": "stream",
     "text": [
      "Index([   0,    1,    2,    3,    4,    5,    6,    7,    8,    9,\n",
      "       ...\n",
      "       2182, 2183, 2184, 2185, 2186, 2187, 2188, 2189, 2190, 2191],\n",
      "      dtype='int64', length=1993)\n",
      "RangeIndex(start=0, stop=1993, step=1)\n"
     ]
    }
   ],
   "source": [
    "print(oneHotPlusNumerical.index)\n",
    "oneHotPlusNumerical.reset_index(drop = True, inplace = True)\n",
    "print(oneHotPlusNumerical.index)"
   ]
  },
  {
   "cell_type": "code",
   "execution_count": 196,
   "metadata": {},
   "outputs": [
    {
     "name": "stdout",
     "output_type": "stream",
     "text": [
      "Difference\n",
      "0    1115\n",
      "1     878\n",
      "Name: count, dtype: int64\n"
     ]
    },
    {
     "data": {
      "image/png": "[encoded data removed]",
      "text/plain": [
       "<Figure size 640x480 with 1 Axes>"
      ]
     },
     "metadata": {},
     "output_type": "display_data"
    }
   ],
   "source": [
    "import warnings\n",
    "warnings.filterwarnings('ignore')\n",
    "treeClassifier = tree.DecisionTreeClassifier(max_depth=5)\n",
    "indicator = oneHotPlusNumerical['Future Relapse Binary']\n",
    "xValues = oneHotPlusNumerical.drop(['Future Relapse Binary'], axis=1)\n",
    "treeModel = treeClassifier.fit(xValues, indicator)\n",
    "tree.plot_tree(treeModel)\n",
    "\n",
    "classificationResults = pd.DataFrame(columns=['Real Label', 'Predicted Label', 'Difference'])\n",
    "classificationResultsArray = []\n",
    "count = 0\n",
    "for _, row in oneHotPlusNumerical.iterrows():\n",
    "    classificationResultsArray.append(treeModel.predict([row[1:]])[0])\n",
    "#     if row.iloc[8] != treeModel.predict([row[1:]])[0]:\n",
    "#         print(f'Row {_}')\n",
    "#         print(treeModel.predict([row[1:]])[0])\n",
    "#         print(row.iloc[8])\n",
    "#         count+= 1\n",
    "\n",
    "# print(count)\n",
    "\n",
    "classificationResults['Predicted Label'] = pd.Series(classificationResultsArray)\n",
    "classificationResults['Real Label'] = oneHotPlusNumerical['Future Relapse Binary']\n",
    "#print(classificationResults.shape)\n",
    "classificationResults['Difference'] = abs(classificationResults['Real Label'] - classificationResults['Predicted Label'])\n",
    "#print(classificationResults)\n",
    "print(classificationResults['Difference'].value_counts())"
   ]
  }
 ],
 "metadata": {
  "kernelspec": {
   "display_name": ".venv",
   "language": "python",
   "name": "python3"
  },
  "language_info": {
   "codemirror_mode": {
    "name": "ipython",
    "version": 3
   },
   "file_extension": ".py",
   "mimetype": "text/x-python",
   "name": "python",
   "nbconvert_exporter": "python",
   "pygments_lexer": "ipython3",
   "version": "3.12.6"
  }
 },
 "nbformat": 4,
 "nbformat_minor": 2
}
