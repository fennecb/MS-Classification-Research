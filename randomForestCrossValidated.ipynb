{
 "cells": [
  {
   "cell_type": "markdown",
   "metadata": {},
   "source": [
    "# Intro\n",
    "\n",
    "Using a dataset kindly provided to my professor by Harvard Medical school, these analyses are attempting to classify whether or not a patient with Multiple Sclerosis (MS) is likely to relapse sometime in the next 3 years."
   ]
  },
  {
   "cell_type": "markdown",
   "metadata": {},
   "source": [
    "## Imports"
   ]
  },
  {
   "cell_type": "code",
   "execution_count": 72,
   "metadata": {},
   "outputs": [],
   "source": [
    "import pandas as pd\n",
    "from sklearn.datasets import make_classification\n",
    "from sklearn.ensemble import RandomForestClassifier\n",
    "from sklearn.metrics import classification_report, confusion_matrix\n",
    "from sklearn.model_selection import TunedThresholdClassifierCV, FixedThresholdClassifier, train_test_split"
   ]
  },
  {
   "cell_type": "markdown",
   "metadata": {},
   "source": [
    "## Loading Data and Preparing for Classification"
   ]
  },
  {
   "cell_type": "code",
   "execution_count": 73,
   "metadata": {},
   "outputs": [],
   "source": [
    "cleanedData = pd.read_csv('../Fully-Cleaned-Data.csv')"
   ]
  },
  {
   "cell_type": "code",
   "execution_count": 74,
   "metadata": {},
   "outputs": [],
   "source": [
    "categoricalColumns = cleanedData.select_dtypes(include=['object']).columns.tolist()\n",
    "numericalData = cleanedData.drop(columns=categoricalColumns)\n",
    "oneHotData = pd.get_dummies(cleanedData[categoricalColumns])"
   ]
  },
  {
   "cell_type": "code",
   "execution_count": 75,
   "metadata": {},
   "outputs": [
    {
     "name": "stdout",
     "output_type": "stream",
     "text": [
      "(2047, 48)\n"
     ]
    }
   ],
   "source": [
    "cleanedDataOneHotEncoded = pd.concat([numericalData, oneHotData], axis=1)\n",
    "print(cleanedDataOneHotEncoded.shape)\n",
    "yData = cleanedDataOneHotEncoded['Future Relapse Binary']\n",
    "XData = cleanedDataOneHotEncoded.drop(['Future Relapse Binary'], axis=1)"
   ]
  },
  {
   "cell_type": "code",
   "execution_count": 76,
   "metadata": {},
   "outputs": [
    {
     "name": "stdout",
     "output_type": "stream",
     "text": [
      "Future Relapse Binary\n",
      "0                        986\n",
      "1                        549\n",
      "Name: count, dtype: int64\n"
     ]
    }
   ],
   "source": [
    "XTrain, XTest, yTrain, yTest = train_test_split(\n",
    "    XData, yData, stratify=yData, random_state=42\n",
    ")\n",
    "print(pd.DataFrame(yTrain).value_counts())"
   ]
  },
  {
   "cell_type": "markdown",
   "metadata": {},
   "source": [
    "## Basic Random Forest"
   ]
  },
  {
   "cell_type": "code",
   "execution_count": 77,
   "metadata": {},
   "outputs": [
    {
     "name": "stdout",
     "output_type": "stream",
     "text": [
      "              precision    recall  f1-score   support\n",
      "\n",
      "           0       0.73      0.62      0.67       329\n",
      "           1       0.47      0.59      0.52       183\n",
      "\n",
      "    accuracy                           0.61       512\n",
      "   macro avg       0.60      0.61      0.60       512\n",
      "weighted avg       0.64      0.61      0.62       512\n",
      "\n"
     ]
    }
   ],
   "source": [
    "classifier = RandomForestClassifier(max_depth=5, random_state=42, class_weight='balanced').fit(XTrain, yTrain)\n",
    "print(classification_report(yTest, classifier.predict(XTest)))"
   ]
  },
  {
   "cell_type": "markdown",
   "metadata": {},
   "source": [
    "Since class 1 is underrepresented at a 2:1 ratio, we must rebalance."
   ]
  },
  {
   "cell_type": "code",
   "execution_count": 78,
   "metadata": {},
   "outputs": [
    {
     "name": "stdout",
     "output_type": "stream",
     "text": [
      "              precision    recall  f1-score   support\n",
      "\n",
      "           0       0.72      0.75      0.73       329\n",
      "           1       0.51      0.48      0.49       183\n",
      "\n",
      "    accuracy                           0.65       512\n",
      "   macro avg       0.62      0.61      0.61       512\n",
      "weighted avg       0.65      0.65      0.65       512\n",
      "\n"
     ]
    }
   ],
   "source": [
    "classifier = RandomForestClassifier(max_depth=10, random_state=42, class_weight='balanced').fit(XTrain, yTrain)\n",
    "print(classification_report(yTest, classifier.predict(XTest)))"
   ]
  },
  {
   "cell_type": "code",
   "execution_count": 79,
   "metadata": {},
   "outputs": [
    {
     "name": "stdout",
     "output_type": "stream",
     "text": [
      "[[246  83]\n",
      " [ 96  87]]\n"
     ]
    }
   ],
   "source": [
    "baseCM = confusion_matrix(yTest, classifier.predict(XTest))\n",
    "print(baseCM)"
   ]
  },
  {
   "cell_type": "markdown",
   "metadata": {},
   "source": [
    "## Manually Setting Decision Threshold in Trees"
   ]
  },
  {
   "cell_type": "code",
   "execution_count": 86,
   "metadata": {},
   "outputs": [
    {
     "name": "stdout",
     "output_type": "stream",
     "text": [
      "[[212 117]\n",
      " [ 73 110]]\n"
     ]
    }
   ],
   "source": [
    "classifierFixedThreshold = FixedThresholdClassifier(\n",
    "    classifier, threshold=0.45, response_method='predict_proba'\n",
    ").fit(XTrain, yTrain)\n",
    "print(confusion_matrix(yTest, classifierFixedThreshold.predict(XTest)))"
   ]
  },
  {
   "cell_type": "markdown",
   "metadata": {},
   "source": [
    "## Base Accuracy"
   ]
  },
  {
   "cell_type": "code",
   "execution_count": null,
   "metadata": {},
   "outputs": [
    {
     "name": "stdout",
     "output_type": "stream",
     "text": [
      "Cut-off point found at 0.446\n",
      "              precision    recall  f1-score   support\n",
      "\n",
      "           0       0.70      0.75      0.72       329\n",
      "           1       0.48      0.41      0.44       183\n",
      "\n",
      "    accuracy                           0.63       512\n",
      "   macro avg       0.59      0.58      0.58       512\n",
      "weighted avg       0.62      0.63      0.62       512\n",
      "\n"
     ]
    }
   ],
   "source": [
    "classifier_tuned = TunedThresholdClassifierCV(\n",
    "    classifier, scoring='accuracy'\n",
    ").fit(XTrain, yTrain)\n",
    "print(\n",
    "    f'Cut-off point found at {classifier_tuned.best_threshold_:.3f}'\n",
    ")\n",
    "print(classification_report(yTest, classifier_tuned.predict(XTest)))"
   ]
  },
  {
   "cell_type": "markdown",
   "metadata": {},
   "source": [
    "## Balanced Accuracy (Changing Probability Threshold for Split)"
   ]
  },
  {
   "cell_type": "code",
   "execution_count": null,
   "metadata": {},
   "outputs": [
    {
     "name": "stdout",
     "output_type": "stream",
     "text": [
      "Cut-off point found at 0.399\n",
      "              precision    recall  f1-score   support\n",
      "\n",
      "           0       0.69      0.66      0.68       329\n",
      "           1       0.44      0.48      0.46       183\n",
      "\n",
      "    accuracy                           0.59       512\n",
      "   macro avg       0.57      0.57      0.57       512\n",
      "weighted avg       0.60      0.59      0.60       512\n",
      "\n"
     ]
    }
   ],
   "source": [
    "classifier_tuned = TunedThresholdClassifierCV(\n",
    "    classifier, scoring='balanced_accuracy'\n",
    ").fit(XTrain, yTrain)\n",
    "print(\n",
    "    f'Cut-off point found at {classifier_tuned.best_threshold_:.3f}'\n",
    ")\n",
    "print(classification_report(yTest, classifier_tuned.predict(XTest)))"
   ]
  },
  {
   "cell_type": "markdown",
   "metadata": {},
   "source": []
  },
  {
   "cell_type": "code",
   "execution_count": null,
   "metadata": {},
   "outputs": [
    {
     "name": "stdout",
     "output_type": "stream",
     "text": [
      "Cut-off point found at 0.639\n",
      "              precision    recall  f1-score   support\n",
      "\n",
      "           0       0.65      0.95      0.77       329\n",
      "           1       0.44      0.08      0.13       183\n",
      "\n",
      "    accuracy                           0.63       512\n",
      "   macro avg       0.54      0.51      0.45       512\n",
      "weighted avg       0.57      0.63      0.54       512\n",
      "\n"
     ]
    }
   ],
   "source": [
    "classifier_tuned = TunedThresholdClassifierCV(\n",
    "    classifier, scoring='precision', cv=15\n",
    ").fit(XTrain, yTrain)\n",
    "print(\n",
    "    f'Cut-off point found at {classifier_tuned.best_threshold_:.3f}'\n",
    ")\n",
    "print(classification_report(yTest, classifier_tuned.predict(XTest)))"
   ]
  }
 ],
 "metadata": {
  "kernelspec": {
   "display_name": ".venv",
   "language": "python",
   "name": "python3"
  },
  "language_info": {
   "codemirror_mode": {
    "name": "ipython",
    "version": 3
   },
   "file_extension": ".py",
   "mimetype": "text/x-python",
   "name": "python",
   "nbconvert_exporter": "python",
   "pygments_lexer": "ipython3",
   "version": "3.12.1"
  }
 },
 "nbformat": 4,
 "nbformat_minor": 2
}
