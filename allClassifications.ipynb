{
 "cells": [
  {
   "cell_type": "code",
   "execution_count": 12,
   "metadata": {},
   "outputs": [],
   "source": [
    "import pandas as pd\n",
    "import numpy as np\n",
    "from collections import Counter\n",
    "from sklearn.preprocessing import StandardScaler\n",
    "from sklearn.pipeline import Pipeline\n",
    "from sklearn.tree import DecisionTreeClassifier\n",
    "from sklearn.ensemble import RandomForestClassifier, GradientBoostingClassifier\n",
    "from sklearn.naive_bayes import GaussianNB\n",
    "from sklearn import metrics\n",
    "from sklearn.metrics import confusion_matrix, classification_report, f1_score, recall_score, precision_score, roc_auc_score, accuracy_score\n",
    "from sklearn.model_selection import train_test_split, cross_val_score, cross_validate, TunedThresholdClassifierCV, GridSearchCV, StratifiedKFold, LeaveOneOut\n",
    "from sklearn.neighbors import KNeighborsClassifier\n",
    "from pprint import pprint\n",
    "from imblearn.over_sampling import SMOTE\n",
    "from imblearn.pipeline import Pipeline as imbPipeline\n",
    "from xgboost import XGBClassifier"
   ]
  },
  {
   "cell_type": "markdown",
   "metadata": {},
   "source": [
    "#### Load Data"
   ]
  },
  {
   "cell_type": "markdown",
   "metadata": {},
   "source": [
    "Load the cleaned data and convert all categorical columns into as many binary columns as necessary."
   ]
  },
  {
   "cell_type": "code",
   "execution_count": 2,
   "metadata": {},
   "outputs": [],
   "source": [
    "cleanedData = pd.read_csv('../Fully-Cleaned-Data.csv')"
   ]
  },
  {
   "cell_type": "code",
   "execution_count": 3,
   "metadata": {},
   "outputs": [],
   "source": [
    "categoricalColumns = cleanedData.select_dtypes(include=['object']).columns.tolist()\n",
    "numericalData = cleanedData.drop(columns=categoricalColumns)\n",
    "oneHotData = pd.get_dummies(cleanedData[categoricalColumns])"
   ]
  },
  {
   "cell_type": "code",
   "execution_count": 4,
   "metadata": {},
   "outputs": [],
   "source": [
    "cleanedDataOneHotEncoded = pd.concat([numericalData, oneHotData], axis=1)"
   ]
  },
  {
   "cell_type": "code",
   "execution_count": 5,
   "metadata": {},
   "outputs": [],
   "source": [
    "X = cleanedDataOneHotEncoded.drop(['Future Relapse Binary'], axis=1)\n",
    "y = cleanedDataOneHotEncoded['Future Relapse Binary']\n",
    "XTrain, XTest, yTrain, yTest = train_test_split(X, y, stratify=y, random_state=42)"
   ]
  },
  {
   "cell_type": "code",
   "execution_count": 6,
   "metadata": {},
   "outputs": [],
   "source": [
    "kf = StratifiedKFold(n_splits=5, shuffle=True, random_state=42)"
   ]
  },
  {
   "cell_type": "markdown",
   "metadata": {},
   "source": [
    "#### Helper Functions"
   ]
  },
  {
   "cell_type": "code",
   "execution_count": 7,
   "metadata": {},
   "outputs": [],
   "source": [
    "def print_scoring_metrics(fittedModel):\n",
    "    train_preds = fittedModel.predict(XTrain)\n",
    "    test_preds = fittedModel.predict(XTest)\n",
    "    print('Training Scores')\n",
    "    print(f'Accuracy: {accuracy_score(yTrain, train_preds)}')\n",
    "    print(f'Recall: {recall_score(yTrain, train_preds)}')\n",
    "    print(f'Precision: {precision_score(yTrain, train_preds)}')\n",
    "    print(f'F1: {f1_score(yTrain, train_preds)}')\n",
    "    print(f'ROC AUC: {roc_auc_score(yTrain, train_preds)}')\n",
    "    print('--------------------------------')\n",
    "    print('Test Scores')\n",
    "    print(f'Accuracy: {accuracy_score(yTest, test_preds)}')\n",
    "    print(f'Recall: {recall_score(yTest, test_preds)}')\n",
    "    print(f'Precision: {precision_score(yTest, test_preds)}')\n",
    "    print(f'F1: {f1_score(yTest, test_preds)}')\n",
    "    print(f'ROC AUC: {roc_auc_score(yTest, test_preds)}')"
   ]
  },
  {
   "cell_type": "markdown",
   "metadata": {},
   "source": [
    "## Decision Tree"
   ]
  },
  {
   "cell_type": "code",
   "execution_count": 23,
   "metadata": {},
   "outputs": [],
   "source": [
    "decision_tree_model = imbPipeline(\n",
    "    [\n",
    "        ('smote', SMOTE(random_state=42)),\n",
    "        ('model', DecisionTreeClassifier(random_state=42))\n",
    "    ]\n",
    ")"
   ]
  },
  {
   "cell_type": "code",
   "execution_count": 45,
   "metadata": {},
   "outputs": [
    {
     "name": "stdout",
     "output_type": "stream",
     "text": [
      "{'model__criterion': 'entropy', 'model__max_depth': 8, 'model__max_features': 'sqrt', 'model__min_samples_split': 9}\n"
     ]
    },
    {
     "name": "stderr",
     "output_type": "stream",
     "text": [
      "/Users/castle/Documents/MS_Classification_Research/.venv/lib/python3.12/site-packages/numpy/ma/core.py:2881: RuntimeWarning: invalid value encountered in cast\n",
      "  _data = np.array(data, dtype=dtype, copy=copy,\n"
     ]
    }
   ],
   "source": [
    "decision_tree_param_grid = {\n",
    "    'model__max_depth': range(1, 15),\n",
    "    'model__min_samples_split': range(2, 10),\n",
    "    'model__criterion': ['gini', 'entropy'],\n",
    "    'model__max_features': ['sqrt', 'log2']\n",
    "}\n",
    "decision_tree_gscv = GridSearchCV(\n",
    "    estimator=decision_tree_model, \n",
    "    param_grid=decision_tree_param_grid, \n",
    "    scoring='roc_auc',\n",
    "    cv=kf\n",
    ")\n",
    "decision_tree_gscv.fit(XTrain, yTrain)\n",
    "print(decision_tree_gscv.best_params_)"
   ]
  },
  {
   "cell_type": "code",
   "execution_count": 54,
   "metadata": {},
   "outputs": [
    {
     "name": "stdout",
     "output_type": "stream",
     "text": [
      "Training Scores\n",
      "Accuracy: 0.6644951140065146\n",
      "Recall: 0.6867030965391621\n",
      "Precision: 0.5236111111111111\n",
      "F1: 0.5941686367218282\n",
      "ROC AUC: 0.6694164569916906\n",
      "--------------------------------\n",
      "Test Scores\n",
      "Accuracy: 0.55859375\n",
      "Recall: 0.5737704918032787\n",
      "Precision: 0.4150197628458498\n",
      "F1: 0.481651376146789\n",
      "ROC AUC: 0.5619612337435846\n"
     ]
    }
   ],
   "source": [
    "print_scoring_metrics(decision_tree_gscv)"
   ]
  },
  {
   "cell_type": "markdown",
   "metadata": {},
   "source": [
    "## Random Forest"
   ]
  },
  {
   "cell_type": "code",
   "execution_count": 57,
   "metadata": {},
   "outputs": [],
   "source": [
    "random_forest_pipeline = imbPipeline([\n",
    "    ('smote', SMOTE(random_state=42)),\n",
    "    ('model', RandomForestClassifier(random_state=42))\n",
    "])"
   ]
  },
  {
   "cell_type": "code",
   "execution_count": 67,
   "metadata": {},
   "outputs": [
    {
     "name": "stdout",
     "output_type": "stream",
     "text": [
      "{'model__class_weight': 'balanced', 'model__criterion': 'gini', 'model__max_depth': 4, 'model__n_estimators': 250}\n"
     ]
    }
   ],
   "source": [
    "random_forest_param_grid = {\n",
    "    'model__criterion': ['gini', 'entropy'],\n",
    "    'model__max_depth': range(2, 5),\n",
    "    'model__class_weight': ['balanced', None],\n",
    "    'model__n_estimators': [50, 100, 150, 200, 250, 300, 350]\n",
    "}\n",
    "random_forest_gscv = GridSearchCV(\n",
    "    estimator=random_forest_pipeline,\n",
    "    param_grid=random_forest_param_grid,\n",
    "    scoring='roc_auc',\n",
    "    cv=kf\n",
    ")\n",
    "random_forest_gscv.fit(XTrain, yTrain)\n",
    "print(random_forest_gscv.best_params_)"
   ]
  },
  {
   "cell_type": "code",
   "execution_count": 70,
   "metadata": {},
   "outputs": [
    {
     "name": "stdout",
     "output_type": "stream",
     "text": [
      "Training Scores\n",
      "Accuracy: 0.6697068403908795\n",
      "Recall: 0.692167577413479\n",
      "Precision: 0.5292479108635098\n",
      "F1: 0.5998421468034728\n",
      "ROC AUC: 0.6746841943862527\n",
      "--------------------------------\n",
      "Test Scores\n",
      "Accuracy: 0.591796875\n",
      "Recall: 0.5519125683060109\n",
      "Precision: 0.44298245614035087\n",
      "F1: 0.49148418491484186\n",
      "ROC AUC: 0.582947165611972\n"
     ]
    }
   ],
   "source": [
    "print_scoring_metrics(random_forest_gscv)"
   ]
  },
  {
   "cell_type": "markdown",
   "metadata": {},
   "source": [
    "## KNN"
   ]
  },
  {
   "cell_type": "code",
   "execution_count": 64,
   "metadata": {},
   "outputs": [],
   "source": [
    "knn_pipeline = imbPipeline([\n",
    "    ('smote', SMOTE(random_state=42)),\n",
    "    ('model', KNeighborsClassifier())\n",
    "])"
   ]
  },
  {
   "cell_type": "code",
   "execution_count": 75,
   "metadata": {},
   "outputs": [
    {
     "name": "stdout",
     "output_type": "stream",
     "text": [
      "{'model__n_neighbors': 99, 'model__p': 1, 'model__weights': 'uniform'}\n"
     ]
    }
   ],
   "source": [
    "knn_param_grid = {\n",
    "    'model__n_neighbors': range(5, 100),\n",
    "    'model__weights': ['uniform'],\n",
    "    'model__p': [1, 2, 3]\n",
    "}\n",
    "\n",
    "knn_gridsearchcv = GridSearchCV(\n",
    "    estimator=knn_pipeline, \n",
    "    param_grid=knn_param_grid, \n",
    "    scoring='roc_auc',\n",
    "    cv=kf\n",
    ").fit(XTrain, yTrain)\n",
    "print(knn_gridsearchcv.best_params_)"
   ]
  },
  {
   "cell_type": "code",
   "execution_count": 76,
   "metadata": {},
   "outputs": [
    {
     "name": "stdout",
     "output_type": "stream",
     "text": [
      "Training Scores\n",
      "Accuracy: 0.6123778501628665\n",
      "Recall: 0.6794171220400729\n",
      "Precision: 0.47095959595959597\n",
      "F1: 0.5563012677106637\n",
      "ROC AUC: 0.6272339159896104\n",
      "--------------------------------\n",
      "Test Scores\n",
      "Accuracy: 0.564453125\n",
      "Recall: 0.6284153005464481\n",
      "Precision: 0.42592592592592593\n",
      "F1: 0.5077262693156733\n",
      "ROC AUC: 0.5786453402428289\n"
     ]
    }
   ],
   "source": [
    "print_scoring_metrics(knn_gridsearchcv)"
   ]
  },
  {
   "cell_type": "markdown",
   "metadata": {},
   "source": [
    "## Naive Bayes"
   ]
  },
  {
   "cell_type": "code",
   "execution_count": 78,
   "metadata": {},
   "outputs": [
    {
     "name": "stdout",
     "output_type": "stream",
     "text": [
      "Training Scores\n",
      "Accuracy: 0.4254071661237785\n",
      "Recall: 0.9726775956284153\n",
      "Precision: 0.3811563169164882\n",
      "F1: 0.5476923076923077\n",
      "ROC AUC: 0.5466836254004145\n",
      "--------------------------------\n",
      "Test Scores\n",
      "Accuracy: 0.419921875\n",
      "Recall: 0.9672131147540983\n",
      "Precision: 0.3782051282051282\n",
      "F1: 0.543778801843318\n",
      "ROC AUC: 0.5413573172554687\n"
     ]
    }
   ],
   "source": [
    "nb_model = imbPipeline(\n",
    "    [('scaler', StandardScaler()),\n",
    "     ('smote', SMOTE(random_state=42)),\n",
    "     ('nb_model', GaussianNB())]\n",
    ").fit(XTrain, yTrain)\n",
    "\n",
    "print_scoring_metrics(nb_model)"
   ]
  },
  {
   "cell_type": "markdown",
   "metadata": {},
   "source": [
    "## Gradient Boosting"
   ]
  },
  {
   "cell_type": "code",
   "execution_count": 94,
   "metadata": {},
   "outputs": [
    {
     "name": "stdout",
     "output_type": "stream",
     "text": [
      "{'model__max_depth': 2, 'model__max_features': 'log2', 'model__n_estimators': 100}\n"
     ]
    }
   ],
   "source": [
    "gb_pipeline = imbPipeline([\n",
    "    ('smote', SMOTE(random_state=42)),\n",
    "    ('model', GradientBoostingClassifier(random_state=42))\n",
    "])\n",
    "\n",
    "gb_param_grid = {\n",
    "    'model__max_depth': range(2, 15),\n",
    "    'model__n_estimators': [50, 100, 150],\n",
    "    'model__max_features': ['sqrt', 'log2', None]\n",
    "}\n",
    "\n",
    "gb_gridsearchcv = GridSearchCV(\n",
    "    estimator=gb_pipeline,\n",
    "    param_grid=gb_param_grid,\n",
    "    scoring='roc_auc',\n",
    "    cv=kf,\n",
    "    n_jobs=-1\n",
    ").fit(XTrain, yTrain)\n",
    "print(gb_gridsearchcv.best_params_)"
   ]
  },
  {
   "cell_type": "code",
   "execution_count": 95,
   "metadata": {},
   "outputs": [
    {
     "name": "stdout",
     "output_type": "stream",
     "text": [
      "Training Scores\n",
      "Accuracy: 0.6827361563517915\n",
      "Recall: 0.5774134790528234\n",
      "Precision: 0.5541958041958042\n",
      "F1: 0.5655664585191793\n",
      "ROC AUC: 0.6593963946988255\n",
      "--------------------------------\n",
      "Test Scores\n",
      "Accuracy: 0.615234375\n",
      "Recall: 0.4644808743169399\n",
      "Precision: 0.46195652173913043\n",
      "F1: 0.46321525885558584\n",
      "ROC AUC: 0.5817845101067982\n"
     ]
    }
   ],
   "source": [
    "print_scoring_metrics(gb_gridsearchcv)"
   ]
  },
  {
   "cell_type": "code",
   "execution_count": 96,
   "metadata": {},
   "outputs": [
    {
     "name": "stdout",
     "output_type": "stream",
     "text": [
      "Training Scores\n",
      "Accuracy: 0.6201954397394137\n",
      "Recall: 0.8342440801457195\n",
      "Precision: 0.48210526315789476\n",
      "F1: 0.6110740493662442\n",
      "ROC AUC: 0.6676291394643404\n",
      "--------------------------------\n",
      "Test Scores\n",
      "Accuracy: 0.546875\n",
      "Recall: 0.7431693989071039\n",
      "Precision: 0.4236760124610592\n",
      "F1: 0.5396825396825397\n",
      "ROC AUC: 0.5904296842559835\n"
     ]
    }
   ],
   "source": [
    "gb_threshold_tuned = TunedThresholdClassifierCV(\n",
    "    gb_gridsearchcv,\n",
    "    cv=kf,\n",
    "    scoring='roc_auc'\n",
    ").fit(XTrain, yTrain)\n",
    "\n",
    "print_scoring_metrics(gb_threshold_tuned)"
   ]
  },
  {
   "cell_type": "code",
   "execution_count": 97,
   "metadata": {},
   "outputs": [
    {
     "name": "stdout",
     "output_type": "stream",
     "text": [
      "0.3933515992692537\n"
     ]
    }
   ],
   "source": [
    "print(gb_threshold_tuned.best_threshold_)"
   ]
  },
  {
   "cell_type": "markdown",
   "metadata": {},
   "source": [
    "## XGBoost"
   ]
  },
  {
   "cell_type": "code",
   "execution_count": null,
   "metadata": {},
   "outputs": [
    {
     "name": "stderr",
     "output_type": "stream",
     "text": [
      "c:\\Users\\Ben\\MS Classification Research\\.venv\\Lib\\site-packages\\numpy\\ma\\core.py:2892: RuntimeWarning: invalid value encountered in cast\n",
      "  _data = np.array(data, dtype=dtype, copy=copy,\n"
     ]
    },
    {
     "name": "stdout",
     "output_type": "stream",
     "text": [
      "{'model__grow_policy': 'depthwise', 'model__max_depth': 2, 'model__n_estimators': 150}\n"
     ]
    }
   ],
   "source": [
    "xgb_pipeline = imbPipeline([\n",
    "    ('smote', SMOTE(random_state=42)),\n",
    "    ('model', XGBClassifier())\n",
    "])\n",
    "\n",
    "xgb_param_grid = {\n",
    "    'model__n_estimators': [150, 250],\n",
    "    'model__max_depth': range(2, 15),\n",
    "    'model__grow_policy': ['depthwise', 'lossguide']\n",
    "}\n",
    "\n",
    "xgb_gridsearchcv = GridSearchCV(\n",
    "    estimator=xgb_pipeline,\n",
    "    param_grid=xgb_param_grid,\n",
    "    scoring='roc_auc',\n",
    "    cv=kf,\n",
    "    n_jobs=-1\n",
    ").fit(XTrain, yTrain)\n",
    "print(xgb_gridsearchcv.best_params_)"
   ]
  },
  {
   "cell_type": "code",
   "execution_count": 11,
   "metadata": {},
   "outputs": [
    {
     "name": "stdout",
     "output_type": "stream",
     "text": [
      "Training Scores\n",
      "Accuracy: 0.7667752442996743\n",
      "Recall: 0.5883424408014571\n",
      "Precision: 0.7098901098901099\n",
      "F1: 0.6434262948207171\n",
      "ROC AUC: 0.7272341007252721\n",
      "--------------------------------\n",
      "Test Scores\n",
      "Accuracy: 0.62109375\n",
      "Recall: 0.36065573770491804\n",
      "Precision: 0.46153846153846156\n",
      "F1: 0.4049079754601227\n",
      "ROC AUC: 0.5633065922567143\n"
     ]
    }
   ],
   "source": [
    "print_scoring_metrics(xgb_gridsearchcv)"
   ]
  },
  {
   "cell_type": "code",
   "execution_count": 12,
   "metadata": {},
   "outputs": [
    {
     "name": "stdout",
     "output_type": "stream",
     "text": [
      "Training Scores\n",
      "Accuracy: 0.7355048859934853\n",
      "Recall: 0.7978142076502732\n",
      "Precision: 0.597544338335607\n",
      "F1: 0.6833073322932918\n",
      "ROC AUC: 0.7493127833383212\n",
      "--------------------------------\n",
      "Test Scores\n",
      "Accuracy: 0.58984375\n",
      "Recall: 0.546448087431694\n",
      "Precision: 0.44052863436123346\n",
      "F1: 0.4878048780487805\n",
      "ROC AUC: 0.5802149251748137\n"
     ]
    }
   ],
   "source": [
    "xgb_threshold_tuned = TunedThresholdClassifierCV(\n",
    "    xgb_gridsearchcv,\n",
    "    cv=kf,\n",
    "    scoring='roc_auc'\n",
    ").fit(XTrain, yTrain)\n",
    "\n",
    "print_scoring_metrics(xgb_threshold_tuned)"
   ]
  },
  {
   "cell_type": "code",
   "execution_count": 15,
   "metadata": {},
   "outputs": [
    {
     "name": "stdout",
     "output_type": "stream",
     "text": [
      "0.38885078\n"
     ]
    }
   ],
   "source": [
    "print(xgb_threshold_tuned.best_threshold_)"
   ]
  },
  {
   "cell_type": "markdown",
   "metadata": {},
   "source": [
    "### Nested Cross-Validation with XGBoost"
   ]
  },
  {
   "cell_type": "code",
   "execution_count": null,
   "metadata": {},
   "outputs": [
    {
     "name": "stdout",
     "output_type": "stream",
     "text": [
      "{'model__grow_policy': 'depthwise', 'model__max_depth': 2, 'model__n_estimators': 150}\n",
      "{'model__grow_policy': 'depthwise', 'model__max_depth': 2, 'model__n_estimators': 150}\n",
      "{'model__grow_policy': 'depthwise', 'model__max_depth': 2, 'model__n_estimators': 150}\n",
      "{'model__grow_policy': 'depthwise', 'model__max_depth': 2, 'model__n_estimators': 150}\n",
      "{'model__grow_policy': 'depthwise', 'model__max_depth': 2, 'model__n_estimators': 150}\n",
      "{'model__grow_policy': 'depthwise', 'model__max_depth': 2, 'model__n_estimators': 150}\n",
      "{'model__grow_policy': 'depthwise', 'model__max_depth': 2, 'model__n_estimators': 150}\n",
      "{'model__grow_policy': 'depthwise', 'model__max_depth': 2, 'model__n_estimators': 150}\n",
      "{'model__grow_policy': 'depthwise', 'model__max_depth': 2, 'model__n_estimators': 150}\n",
      "{'model__grow_policy': 'depthwise', 'model__max_depth': 2, 'model__n_estimators': 150}\n",
      "{'model__grow_policy': 'depthwise', 'model__max_depth': 2, 'model__n_estimators': 150}\n",
      "{'model__grow_policy': 'depthwise', 'model__max_depth': 2, 'model__n_estimators': 150}\n",
      "{'model__grow_policy': 'depthwise', 'model__max_depth': 2, 'model__n_estimators': 150}\n",
      "{'model__grow_policy': 'depthwise', 'model__max_depth': 2, 'model__n_estimators': 250}\n",
      "{'model__grow_policy': 'depthwise', 'model__max_depth': 2, 'model__n_estimators': 150}\n",
      "{'model__grow_policy': 'depthwise', 'model__max_depth': 2, 'model__n_estimators': 150}\n",
      "{'model__grow_policy': 'depthwise', 'model__max_depth': 2, 'model__n_estimators': 150}\n",
      "{'model__grow_policy': 'depthwise', 'model__max_depth': 2, 'model__n_estimators': 150}\n",
      "{'model__grow_policy': 'depthwise', 'model__max_depth': 2, 'model__n_estimators': 150}\n",
      "{'model__grow_policy': 'depthwise', 'model__max_depth': 2, 'model__n_estimators': 150}\n",
      "[0.66446698 0.66030674 0.6597352  0.66398499 0.66580706 0.65461191\n",
      " 0.65651011 0.6637209  0.64877508 0.64489485 0.65507936 0.64995793\n",
      " 0.65741194 0.65051232 0.6666724  0.64276456 0.65567853 0.65249433\n",
      " 0.66161386 0.64691235]\n",
      "0.6560955693948755\n"
     ]
    }
   ],
   "source": [
    "NUM_TRIALS = 20\n",
    "scores = np.zeros(NUM_TRIALS)\n",
    "xgb_nested_param_grid = {\n",
    "    'model__n_estimators': [150, 250],\n",
    "    'model__max_depth': range(2, 15),\n",
    "    'model__grow_policy': ['depthwise', 'lossguide']\n",
    "}\n",
    "\n",
    "for i in range(NUM_TRIALS):\n",
    "    inner_cv = StratifiedKFold(n_splits=5, shuffle=True)\n",
    "    outer_cv = StratifiedKFold(n_splits=5, shuffle=True)\n",
    "\n",
    "    xgb_nested_pipeline = imbPipeline([\n",
    "        ('smote', SMOTE(random_state=42)),\n",
    "        ('model', XGBClassifier())\n",
    "    ])\n",
    "\n",
    "    xgb_nested_gridsearchcv = GridSearchCV(\n",
    "        estimator=xgb_nested_pipeline,\n",
    "        param_grid=xgb_nested_param_grid,\n",
    "        cv=inner_cv,\n",
    "        scoring='roc_auc',\n",
    "        n_jobs=-2\n",
    "    ).fit(XTrain, yTrain)\n",
    "    \n",
    "    nested_cv_score = cross_val_score(\n",
    "        estimator=xgb_nested_gridsearchcv,\n",
    "        scoring='roc_auc',\n",
    "        X=XTrain,\n",
    "        y=yTrain,\n",
    "        cv=outer_cv,\n",
    "        n_jobs=-2\n",
    "    )\n",
    "\n",
    "    print(xgb_nested_gridsearchcv.best_params_)\n",
    "    scores[i] = nested_cv_score.mean()\n",
    "\n",
    "print(scores)\n",
    "print(scores.mean())"
   ]
  }
 ],
 "metadata": {
  "kernelspec": {
   "display_name": ".venv",
   "language": "python",
   "name": "python3"
  },
  "language_info": {
   "codemirror_mode": {
    "name": "ipython",
    "version": 3
   },
   "file_extension": ".py",
   "mimetype": "text/x-python",
   "name": "python",
   "nbconvert_exporter": "python",
   "pygments_lexer": "ipython3",
   "version": "3.12.1"
  }
 },
 "nbformat": 4,
 "nbformat_minor": 2
}
