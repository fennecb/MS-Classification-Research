{
 "cells": [
  {
   "cell_type": "code",
   "execution_count": 56,
   "metadata": {},
   "outputs": [],
   "source": [
    "import pandas as pd\n",
    "import numpy as np\n",
    "from sklearn.preprocessing import StandardScaler\n",
    "from sklearn.pipeline import Pipeline\n",
    "from sklearn.tree import DecisionTreeClassifier\n",
    "from sklearn.ensemble import RandomForestClassifier\n",
    "from sklearn import metrics\n",
    "from sklearn.metrics import confusion_matrix, classification_report, precision_recall_curve, PrecisionRecallDisplay\n",
    "from sklearn.model_selection import train_test_split, cross_val_score, cross_validate, TunedThresholdClassifierCV, GridSearchCV\n",
    "from sklearn.neighbors import KNeighborsClassifier\n",
    "from pprint import pprint"
   ]
  },
  {
   "cell_type": "code",
   "execution_count": 2,
   "metadata": {},
   "outputs": [],
   "source": [
    "cleanedData = pd.read_csv('../Fully-Cleaned-Data.csv')"
   ]
  },
  {
   "cell_type": "code",
   "execution_count": 3,
   "metadata": {},
   "outputs": [],
   "source": [
    "categoricalColumns = cleanedData.select_dtypes(include=['object']).columns.tolist()\n",
    "numericalData = cleanedData.drop(columns=categoricalColumns)\n",
    "oneHotData = pd.get_dummies(cleanedData[categoricalColumns])"
   ]
  },
  {
   "cell_type": "code",
   "execution_count": 4,
   "metadata": {},
   "outputs": [
    {
     "name": "stdout",
     "output_type": "stream",
     "text": [
      "(2047, 48)\n"
     ]
    }
   ],
   "source": [
    "cleanedDataOneHotEncoded = pd.concat([numericalData, oneHotData], axis=1)\n",
    "print(cleanedDataOneHotEncoded.shape)"
   ]
  },
  {
   "cell_type": "code",
   "execution_count": 5,
   "metadata": {},
   "outputs": [],
   "source": [
    "X = cleanedDataOneHotEncoded.drop(['Future Relapse Binary'], axis=1)\n",
    "y = cleanedDataOneHotEncoded['Future Relapse Binary']\n",
    "\n",
    "XTrain, XTest, yTrain, yTest = train_test_split(X, y, random_state=42)"
   ]
  },
  {
   "cell_type": "code",
   "execution_count": 6,
   "metadata": {},
   "outputs": [],
   "source": [
    "def print_scoring_statistics(yTrue, yPred):\n",
    "    print(metrics.balanced_accuracy_score(yTrue, yPred))\n",
    "    print(metrics.f1_score(yTrue, yPred))\n",
    "    print(metrics.precision_score(yTrue, yPred))\n",
    "    print(metrics.recall_score(yTrue, yPred))"
   ]
  },
  {
   "cell_type": "markdown",
   "metadata": {},
   "source": [
    "## Decision Tree"
   ]
  },
  {
   "cell_type": "code",
   "execution_count": 7,
   "metadata": {},
   "outputs": [],
   "source": [
    "decision_tree_pipeline = Pipeline([\n",
    "    ('model', DecisionTreeClassifier(class_weight='balanced', random_state=42, max_depth=8))\n",
    "])"
   ]
  },
  {
   "cell_type": "code",
   "execution_count": 8,
   "metadata": {},
   "outputs": [
    {
     "name": "stdout",
     "output_type": "stream",
     "text": [
      "0.7439186674111298\n",
      "0.6701479547432551\n",
      "0.632183908045977\n",
      "0.7129629629629629\n",
      "[[771 224]\n",
      " [155 385]]\n",
      "              precision    recall  f1-score   support\n",
      "\n",
      "           0       0.83      0.77      0.80       995\n",
      "           1       0.63      0.71      0.67       540\n",
      "\n",
      "    accuracy                           0.75      1535\n",
      "   macro avg       0.73      0.74      0.74      1535\n",
      "weighted avg       0.76      0.75      0.76      1535\n",
      "\n"
     ]
    }
   ],
   "source": [
    "decision_tree_train_preds = decision_tree_pipeline.fit(XTrain, yTrain).predict(XTrain)\n",
    "print_scoring_statistics(yTrain, decision_tree_train_preds)\n",
    "print(confusion_matrix(yTrain, decision_tree_train_preds))\n",
    "print(classification_report(yTrain, decision_tree_train_preds))"
   ]
  },
  {
   "cell_type": "code",
   "execution_count": 9,
   "metadata": {},
   "outputs": [
    {
     "name": "stdout",
     "output_type": "stream",
     "text": [
      "0.6050819136640032\n",
      "0.5152978379531878\n",
      "0.45757981938817177\n",
      "0.5981481481481482\n"
     ]
    }
   ],
   "source": [
    "print(cross_val_score(decision_tree_pipeline, XTrain, yTrain, cv=15, scoring='balanced_accuracy').mean())\n",
    "print(cross_val_score(decision_tree_pipeline, XTrain, yTrain, cv=15, scoring='f1').mean())\n",
    "print(cross_val_score(decision_tree_pipeline, XTrain, yTrain, cv=15, scoring='precision').mean())\n",
    "print(cross_val_score(decision_tree_pipeline, XTrain, yTrain, cv=15, scoring='recall').mean())"
   ]
  },
  {
   "cell_type": "code",
   "execution_count": 10,
   "metadata": {},
   "outputs": [
    {
     "name": "stdout",
     "output_type": "stream",
     "text": [
      "0.6005208333333333\n",
      "0.5588822355289421\n",
      "0.45307443365695793\n",
      "0.7291666666666666\n",
      "[[151 169]\n",
      " [ 52 140]]\n"
     ]
    }
   ],
   "source": [
    "decision_tree_threshold_tuned = TunedThresholdClassifierCV(decision_tree_pipeline, \n",
    "                                                           cv=15, \n",
    "                                                           scoring='recall_macro', \n",
    "                                                           random_state=42\n",
    "                                                        ).fit(XTrain, yTrain)\n",
    "print_scoring_statistics(yTest, decision_tree_threshold_tuned.predict(XTest))\n",
    "print(confusion_matrix(yTest, decision_tree_threshold_tuned.predict(XTest)))"
   ]
  },
  {
   "cell_type": "markdown",
   "metadata": {},
   "source": [
    "## Random Forest"
   ]
  },
  {
   "cell_type": "code",
   "execution_count": 11,
   "metadata": {},
   "outputs": [],
   "source": [
    "random_forest_pipeline = Pipeline([\n",
    "    ('model', RandomForestClassifier(class_weight='balanced', random_state=42, max_depth=11))\n",
    "])"
   ]
  },
  {
   "cell_type": "code",
   "execution_count": 12,
   "metadata": {},
   "outputs": [
    {
     "name": "stdout",
     "output_type": "stream",
     "text": [
      "0.9371812767541411\n",
      "0.9052997393570807\n",
      "0.8527004909983633\n",
      "0.9648148148148148\n",
      "[[905  90]\n",
      " [ 19 521]]\n",
      "              precision    recall  f1-score   support\n",
      "\n",
      "           0       0.98      0.91      0.94       995\n",
      "           1       0.85      0.96      0.91       540\n",
      "\n",
      "    accuracy                           0.93      1535\n",
      "   macro avg       0.92      0.94      0.92      1535\n",
      "weighted avg       0.93      0.93      0.93      1535\n",
      "\n"
     ]
    }
   ],
   "source": [
    "random_forest_train_preds = random_forest_pipeline.fit(XTrain, yTrain).predict(XTrain)\n",
    "print_scoring_statistics(yTrain, random_forest_train_preds)\n",
    "print(confusion_matrix(yTrain, random_forest_train_preds))\n",
    "print(classification_report(yTrain, random_forest_train_preds))"
   ]
  },
  {
   "cell_type": "code",
   "execution_count": 13,
   "metadata": {},
   "outputs": [
    {
     "name": "stdout",
     "output_type": "stream",
     "text": [
      "0.6316850092969497\n",
      "0.5237586288059768\n",
      "0.5228178301947463\n",
      "0.5296296296296296\n"
     ]
    }
   ],
   "source": [
    "print(cross_val_score(random_forest_pipeline, XTrain, yTrain, cv=15, scoring='balanced_accuracy').mean())\n",
    "print(cross_val_score(random_forest_pipeline, XTrain, yTrain, cv=15, scoring='f1').mean())\n",
    "print(cross_val_score(random_forest_pipeline, XTrain, yTrain, cv=15, scoring='precision').mean())\n",
    "print(cross_val_score(random_forest_pipeline, XTrain, yTrain, cv=15, scoring='recall').mean())"
   ]
  },
  {
   "cell_type": "code",
   "execution_count": 14,
   "metadata": {},
   "outputs": [
    {
     "name": "stdout",
     "output_type": "stream",
     "text": [
      "0.6515625\n",
      "0.5703125\n",
      "0.4444444444444444\n",
      "1.0\n"
     ]
    }
   ],
   "source": [
    "for scoring_str in ['balanced_accuracy', 'f1', 'precision', 'recall']:\n",
    "    random_forest_threshold_tuned = TunedThresholdClassifierCV(random_forest_pipeline, \n",
    "                                                            cv=15, \n",
    "                                                            scoring=scoring_str, \n",
    "                                                            random_state=42\n",
    "                                                            ).fit(XTrain, yTrain)\n",
    "    if scoring_str == 'balanced_accuracy':\n",
    "        print(metrics.balanced_accuracy_score(yTest, random_forest_threshold_tuned.predict(XTest)))\n",
    "    elif scoring_str == 'f1':\n",
    "        print(metrics.f1_score(yTest, random_forest_threshold_tuned.predict(XTest)))\n",
    "    elif scoring_str == 'precision':\n",
    "        print(metrics.precision_score(yTest, random_forest_threshold_tuned.predict(XTest)))\n",
    "    elif scoring_str == 'recall':\n",
    "        print(metrics.recall_score(yTest, random_forest_threshold_tuned.predict(XTest)))"
   ]
  },
  {
   "cell_type": "markdown",
   "metadata": {},
   "source": [
    "## KNN"
   ]
  },
  {
   "cell_type": "code",
   "execution_count": null,
   "metadata": {},
   "outputs": [],
   "source": [
    "# for i in range(6, 17):\n",
    "#     knn_pipeline = Pipeline([\n",
    "#         ('scaler', StandardScaler()),\n",
    "#         ('model', KNeighborsClassifier(weights='uniform'))\n",
    "#     ]).fit(XTrain, yTrain)\n",
    "#     print(i)\n",
    "#     print('Training:')\n",
    "#     knn_training_preds = knn_pipeline.predict(XTrain)\n",
    "#     print_scoring_statistics(yTrain, knn_training_preds)\n",
    "#     print('---------------')\n",
    "#     print('Test:')\n",
    "#     knn_test_preds = knn_pipeline.predict(XTest)\n",
    "#     print_scoring_statistics(yTest, knn_test_preds)\n",
    "#     print('Cross Validated:')"
   ]
  },
  {
   "cell_type": "code",
   "execution_count": 64,
   "metadata": {},
   "outputs": [],
   "source": [
    "knn_pipeline = Pipeline([\n",
    "        ('scaler', StandardScaler()),\n",
    "        ('model', KNeighborsClassifier(weights='uniform'))\n",
    "])"
   ]
  },
  {
   "cell_type": "code",
   "execution_count": 66,
   "metadata": {},
   "outputs": [
    {
     "name": "stdout",
     "output_type": "stream",
     "text": [
      "{'n_neighbors': np.int64(16)}\n",
      "KNeighborsClassifier(n_neighbors=np.int64(16))\n",
      "0.6150647027252669\n"
     ]
    }
   ],
   "source": [
    "param_grid = {'n_neighbors': np.arange(1, 25)}\n",
    "knn_gscv = GridSearchCV(knn_pipeline['model'], param_grid, cv=5)\n",
    "knn_gscv.fit(X, y)\n",
    "best_n = knn_gscv.best_params_['n_neighbors']\n",
    "print(knn_gscv.best_params_)\n",
    "print(knn_gscv.best_estimator_)\n",
    "print(knn_gscv.best_score_)"
   ]
  },
  {
   "cell_type": "code",
   "execution_count": 68,
   "metadata": {},
   "outputs": [],
   "source": [
    "knn_split_pipeline = Pipeline([\n",
    "        ('scaler', StandardScaler()),\n",
    "        ('model', KNeighborsClassifier(n_neighbors=best_n, weights='uniform'))\n",
    "]).fit(XTrain, yTrain)"
   ]
  },
  {
   "cell_type": "code",
   "execution_count": null,
   "metadata": {},
   "outputs": [],
   "source": []
  }
 ],
 "metadata": {
  "kernelspec": {
   "display_name": ".venv",
   "language": "python",
   "name": "python3"
  },
  "language_info": {
   "codemirror_mode": {
    "name": "ipython",
    "version": 3
   },
   "file_extension": ".py",
   "mimetype": "text/x-python",
   "name": "python",
   "nbconvert_exporter": "python",
   "pygments_lexer": "ipython3",
   "version": "3.12.6"
  }
 },
 "nbformat": 4,
 "nbformat_minor": 2
}
