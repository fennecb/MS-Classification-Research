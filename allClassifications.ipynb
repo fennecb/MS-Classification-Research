{
 "cells": [
  {
   "cell_type": "code",
<<<<<<< HEAD
   "execution_count": 43,
=======
   "execution_count": 2,
>>>>>>> 2574173bcaecc06fb94ecd8b9de8c70b36b546a4
   "metadata": {},
   "outputs": [],
   "source": [
    "import pandas as pd\n",
    "import numpy as np\n",
    "from collections import Counter\n",
    "from sklearn.preprocessing import StandardScaler\n",
    "from sklearn.pipeline import Pipeline\n",
    "from sklearn.tree import DecisionTreeClassifier\n",
    "from sklearn.ensemble import RandomForestClassifier\n",
    "from sklearn.naive_bayes import GaussianNB\n",
    "from sklearn import metrics\n",
    "from sklearn.metrics import confusion_matrix, classification_report, precision_recall_curve, PrecisionRecallDisplay\n",
    "from sklearn.model_selection import train_test_split, cross_val_score, cross_validate, TunedThresholdClassifierCV, GridSearchCV, StratifiedKFold\n",
    "from sklearn.neighbors import KNeighborsClassifier\n",
    "from pprint import pprint\n",
    "from imblearn.over_sampling import SMOTE\n",
    "from imblearn.pipeline import Pipeline as imbPipeline"
   ]
  },
  {
   "cell_type": "code",
<<<<<<< HEAD
   "execution_count": 32,
=======
   "execution_count": 3,
>>>>>>> 2574173bcaecc06fb94ecd8b9de8c70b36b546a4
   "metadata": {},
   "outputs": [],
   "source": [
    "cleanedData = pd.read_csv('../Fully-Cleaned-Data.csv')"
   ]
  },
  {
   "cell_type": "code",
<<<<<<< HEAD
   "execution_count": 33,
=======
   "execution_count": 4,
>>>>>>> 2574173bcaecc06fb94ecd8b9de8c70b36b546a4
   "metadata": {},
   "outputs": [],
   "source": [
    "categoricalColumns = cleanedData.select_dtypes(include=['object']).columns.tolist()\n",
    "numericalData = cleanedData.drop(columns=categoricalColumns)\n",
    "oneHotData = pd.get_dummies(cleanedData[categoricalColumns])"
   ]
  },
  {
   "cell_type": "code",
<<<<<<< HEAD
   "execution_count": 34,
=======
   "execution_count": 5,
>>>>>>> 2574173bcaecc06fb94ecd8b9de8c70b36b546a4
   "metadata": {},
   "outputs": [
    {
     "name": "stdout",
     "output_type": "stream",
     "text": [
      "(2047, 48)\n"
     ]
    }
   ],
   "source": [
    "cleanedDataOneHotEncoded = pd.concat([numericalData, oneHotData], axis=1)\n",
    "print(cleanedDataOneHotEncoded.shape)"
   ]
  },
  {
   "cell_type": "code",
<<<<<<< HEAD
   "execution_count": 35,
=======
   "execution_count": 6,
>>>>>>> 2574173bcaecc06fb94ecd8b9de8c70b36b546a4
   "metadata": {},
   "outputs": [],
   "source": [
    "X = cleanedDataOneHotEncoded.drop(['Future Relapse Binary'], axis=1)\n",
    "y = cleanedDataOneHotEncoded['Future Relapse Binary']\n",
    "XTrain, XTest, yTrain, yTest = train_test_split(X, y, stratify=y, random_state=42)"
   ]
  },
  {
   "cell_type": "code",
   "execution_count": 36,
   "metadata": {},
   "outputs": [],
   "source": [
    "def print_scoring_statistics(yTrue, yPred):\n",
    "    print(metrics.balanced_accuracy_score(yTrue, yPred))\n",
    "    print(metrics.f1_score(yTrue, yPred))\n",
    "    print(metrics.precision_score(yTrue, yPred))\n",
    "    print(metrics.recall_score(yTrue, yPred))"
   ]
  },
  {
   "cell_type": "code",
   "execution_count": 41,
   "metadata": {},
   "outputs": [],
   "source": [
    "kf = StratifiedKFold(n_splits=5, shuffle=True, random_state=42)"
   ]
  },
  {
   "cell_type": "markdown",
   "metadata": {},
   "source": [
    "## Decision Tree"
   ]
  },
  {
   "cell_type": "code",
   "execution_count": 51,
   "metadata": {},
   "outputs": [],
   "source": [
    "decision_tree_pipeline = imbPipeline([\n",
    "    #('smote', SMOTE(random_state=42)),\n",
    "    ('model', DecisionTreeClassifier(random_state=42))\n",
    "])"
   ]
  },
  {
   "cell_type": "code",
   "execution_count": 52,
   "metadata": {},
   "outputs": [
    {
     "name": "stdout",
     "output_type": "stream",
     "text": [
      "{'model__criterion': 'gini', 'model__max_depth': 3, 'model__min_samples_split': 12}\n",
      "Pipeline(steps=[('model',\n",
      "                 DecisionTreeClassifier(max_depth=3, min_samples_split=12,\n",
      "                                        random_state=42))])\n",
      "0.6391323423778135\n"
     ]
    }
   ],
   "source": [
    "decision_tree_param_grid = {\n",
    "    'model__max_depth': [i for i in range(1, 15)],\n",
    "    'model__min_samples_split': [i for i in range(2, 50)],\n",
    "    'model__criterion': ['gini', 'entropy']\n",
    "}\n",
    "decision_tree_gscv = GridSearchCV(estimator=decision_tree_pipeline, param_grid=decision_tree_param_grid, scoring='roc_auc', cv=kf)\n",
    "decision_tree_gscv.fit(XTrain, yTrain)\n",
    "print(decision_tree_gscv.best_params_)\n",
    "print(decision_tree_gscv.best_estimator_)\n",
    "print(decision_tree_gscv.best_score_)"
   ]
  },
  {
   "cell_type": "code",
   "execution_count": 53,
   "metadata": {},
   "outputs": [
    {
     "name": "stdout",
     "output_type": "stream",
     "text": [
      "0.6124537013968476\n"
     ]
    }
   ],
   "source": [
    "decision_tree_gscv_test_score = decision_tree_gscv.score(XTest, yTest)\n",
    "print(decision_tree_gscv_test_score)"
   ]
  },
  {
   "cell_type": "code",
   "execution_count": 19,
   "metadata": {},
   "outputs": [],
   "source": [
    "decision_tree_grid_search_params = DecisionTreeClassifier(\n",
    "    random_state=42, \n",
    "    criterion=decision_tree_gscv.best_params_['criterion'], \n",
    "    min_samples_split=decision_tree_gscv.best_params_['min_samples_split'],\n",
    "    max_depth=decision_tree_gscv.best_params_['max_depth']\n",
    ")"
   ]
  },
  {
   "cell_type": "code",
   "execution_count": 18,
   "metadata": {},
   "outputs": [
    {
     "name": "stdout",
     "output_type": "stream",
     "text": [
      "0.8197378438998293\n",
      "0.8200202224469161\n",
      "0.8045634920634921\n",
      "0.8360824742268042\n",
      "[[805 197]\n",
      " [159 811]]\n",
      "              precision    recall  f1-score   support\n",
      "\n",
      "           0       0.84      0.80      0.82      1002\n",
      "           1       0.80      0.84      0.82       970\n",
      "\n",
      "    accuracy                           0.82      1972\n",
      "   macro avg       0.82      0.82      0.82      1972\n",
      "weighted avg       0.82      0.82      0.82      1972\n",
      "\n",
      "0.6940269481872483\n",
      "0.7074235807860262\n",
      "0.7105263157894737\n",
      "0.7043478260869566\n",
      "              precision    recall  f1-score   support\n",
      "\n",
      "           0       0.68      0.68      0.68       313\n",
      "           1       0.71      0.70      0.71       345\n",
      "\n",
      "    accuracy                           0.69       658\n",
      "   macro avg       0.69      0.69      0.69       658\n",
      "weighted avg       0.69      0.69      0.69       658\n",
      "\n"
     ]
    }
   ],
   "source": [
    "decision_tree_train_preds = decision_tree_grid_search_params.fit(XTrain, yTrain).predict(XTrain)\n",
    "print_scoring_statistics(yTrain, decision_tree_train_preds)\n",
    "print(confusion_matrix(yTrain, decision_tree_train_preds))\n",
    "print(classification_report(yTrain, decision_tree_train_preds))\n",
    "\n",
    "decision_tree_grid_search_params.predict(XTest)\n",
    "print_scoring_statistics(yTest, decision_tree_grid_search_params.predict(XTest))\n",
    "print(classification_report(yTest, decision_tree_grid_search_params.predict(XTest)))"
   ]
  },
  {
   "cell_type": "code",
   "execution_count": 13,
   "metadata": {},
   "outputs": [
    {
     "name": "stdout",
     "output_type": "stream",
     "text": [
      "0.6391278673648076\n",
      "0.6400311259501071\n",
      "0.630084751013117\n",
      "0.6525961538461538\n"
     ]
    }
   ],
   "source": [
    "print(cross_val_score(decision_tree_pipeline, XTrain, yTrain, cv=15, scoring='balanced_accuracy').mean())\n",
    "print(cross_val_score(decision_tree_pipeline, XTrain, yTrain, cv=15, scoring='f1').mean())\n",
    "print(cross_val_score(decision_tree_pipeline, XTrain, yTrain, cv=15, scoring='precision').mean())\n",
    "print(cross_val_score(decision_tree_pipeline, XTrain, yTrain, cv=15, scoring='recall').mean())"
   ]
  },
  {
   "cell_type": "code",
   "execution_count": 10,
   "metadata": {},
   "outputs": [
    {
     "name": "stdout",
     "output_type": "stream",
     "text": [
      "0.6005208333333333\n",
      "0.5588822355289421\n",
      "0.45307443365695793\n",
      "0.7291666666666666\n",
      "[[151 169]\n",
      " [ 52 140]]\n"
     ]
    }
   ],
   "source": [
    "decision_tree_threshold_tuned = TunedThresholdClassifierCV(decision_tree_pipeline, \n",
    "                                                           cv=15, \n",
    "                                                           scoring='recall_macro', \n",
    "                                                           random_state=42\n",
    "                                                        ).fit(XTrain, yTrain)\n",
    "print_scoring_statistics(yTest, decision_tree_threshold_tuned.predict(XTest))\n",
    "print(confusion_matrix(yTest, decision_tree_threshold_tuned.predict(XTest)))"
   ]
  },
  {
   "cell_type": "markdown",
   "metadata": {},
   "source": [
    "## Random Forest"
   ]
  },
  {
   "cell_type": "code",
   "execution_count": 25,
   "metadata": {},
   "outputs": [
    {
     "name": "stdout",
     "output_type": "stream",
     "text": [
      "{'class_weight': 'balanced', 'criterion': 'gini', 'max_depth': 4, 'n_estimators': 50}\n"
     ]
    }
   ],
   "source": [
    "rf_model = RandomForestClassifier(random_state=42)\n",
    "rf_param_grid = {\n",
    "    'criterion': ['gini', 'entropy'],\n",
    "    'max_depth': range(2, 10),\n",
    "    'class_weight': ['balanced', None],\n",
    "    'n_estimators': [50, 100, 150]\n",
    "}\n",
    "rf_gridsearchcv = GridSearchCV(estimator=rf_model, param_grid=rf_param_grid, scoring='recall').fit(XTrain, yTrain)\n",
    "print(rf_gridsearchcv.best_params_)"
   ]
  },
  {
   "cell_type": "code",
   "execution_count": 26,
   "metadata": {},
   "outputs": [
    {
     "name": "stdout",
     "output_type": "stream",
     "text": [
      "Training Classification Report\n",
      "              precision    recall  f1-score   support\n",
      "\n",
      "           0       0.81      0.62      0.70       995\n",
      "           1       0.51      0.73      0.60       540\n",
      "\n",
      "    accuracy                           0.66      1535\n",
      "   macro avg       0.66      0.67      0.65      1535\n",
      "weighted avg       0.70      0.66      0.66      1535\n",
      "\n",
      "------------------------------------------------------\n",
      "Test Classification Report\n",
      "              precision    recall  f1-score   support\n",
      "\n",
      "           0       0.77      0.55      0.64       320\n",
      "           1       0.49      0.72      0.59       192\n",
      "\n",
      "    accuracy                           0.62       512\n",
      "   macro avg       0.63      0.64      0.62       512\n",
      "weighted avg       0.67      0.62      0.62       512\n",
      "\n"
     ]
    }
   ],
   "source": [
    "rf_cv_model = RandomForestClassifier(\n",
    "    random_state=42, \n",
    "    class_weight=rf_gridsearchcv.best_params_['class_weight'], \n",
    "    criterion=rf_gridsearchcv.best_params_['criterion'], \n",
    "    max_depth=rf_gridsearchcv.best_params_['max_depth'], \n",
    "    n_estimators=rf_gridsearchcv.best_params_['n_estimators']\n",
    ")\n",
    "\n",
    "print('Training Classification Report')\n",
    "print(classification_report(yTrain, rf_cv_model.fit(XTrain, yTrain).predict(XTrain)))\n",
    "print('------------------------------------------------------')\n",
    "print('Test Classification Report')\n",
    "print(classification_report(yTest, rf_cv_model.fit(XTrain, yTrain).predict(XTest)))"
   ]
  },
  {
   "cell_type": "code",
   "execution_count": null,
   "metadata": {},
   "outputs": [],
   "source": []
  },
  {
   "cell_type": "markdown",
   "metadata": {},
   "source": [
    "## KNN"
   ]
  },
  {
   "cell_type": "code",
   "execution_count": null,
   "metadata": {},
   "outputs": [],
   "source": [
    "# for i in range(6, 17):\n",
    "#     knn_pipeline = Pipeline([\n",
    "#         ('scaler', StandardScaler()),\n",
    "#         ('model', KNeighborsClassifier(weights='uniform'))\n",
    "#     ]).fit(XTrain, yTrain)\n",
    "#     print(i)\n",
    "#     print('Training:')\n",
    "#     knn_training_preds = knn_pipeline.predict(XTrain)\n",
    "#     print_scoring_statistics(yTrain, knn_training_preds)\n",
    "#     print('---------------')\n",
    "#     print('Test:')\n",
    "#     knn_test_preds = knn_pipeline.predict(XTest)\n",
    "#     print_scoring_statistics(yTest, knn_test_preds)\n",
    "#     print('Cross Validated:')"
   ]
  },
  {
   "cell_type": "code",
   "execution_count": 64,
   "metadata": {},
   "outputs": [],
   "source": [
    "knn_pipeline = Pipeline([\n",
    "        ('scaler', StandardScaler()),\n",
    "        ('model', KNeighborsClassifier(weights='uniform'))\n",
    "])"
   ]
  },
  {
   "cell_type": "code",
   "execution_count": 66,
   "metadata": {},
   "outputs": [
    {
     "name": "stdout",
     "output_type": "stream",
     "text": [
      "{'n_neighbors': np.int64(16)}\n",
      "KNeighborsClassifier(n_neighbors=np.int64(16))\n",
      "0.6150647027252669\n"
     ]
    }
   ],
   "source": [
    "param_grid = {'n_neighbors': np.arange(1, 25)}\n",
    "knn_gscv = GridSearchCV(knn_pipeline['model'], param_grid, cv=5)\n",
    "knn_gscv.fit(X, y)\n",
    "best_n = knn_gscv.best_params_['n_neighbors']\n",
    "print(knn_gscv.best_params_)\n",
    "print(knn_gscv.best_estimator_)\n",
    "print(knn_gscv.best_score_)"
   ]
  },
  {
   "cell_type": "code",
   "execution_count": 68,
   "metadata": {},
   "outputs": [],
   "source": [
    "knn_split_pipeline = Pipeline([\n",
    "        ('scaler', StandardScaler()),\n",
    "        ('model', KNeighborsClassifier(n_neighbors=best_n, weights='uniform'))\n",
    "]).fit(XTrain, yTrain)"
   ]
  },
  {
   "cell_type": "code",
   "execution_count": 45,
   "metadata": {},
   "outputs": [
    {
     "name": "stdout",
     "output_type": "stream",
     "text": [
      "{'n_neighbors': 5, 'p': 2, 'weights': 'uniform'}\n"
     ]
    }
   ],
   "source": [
    "knn_model = KNeighborsClassifier()\n",
    "knn_param_grid = {\n",
    "    'n_neighbors': range(5, 25),\n",
    "    'weights': ['uniform'],\n",
    "    'p': [1, 2]\n",
    "}\n",
    "knn_gridsearchcv = GridSearchCV(estimator=knn_model, param_grid=knn_param_grid, scoring='recall').fit(XTrain, yTrain)\n",
    "print(knn_gridsearchcv.best_params_)"
   ]
  },
  {
   "cell_type": "code",
   "execution_count": 46,
   "metadata": {},
   "outputs": [
    {
     "name": "stdout",
     "output_type": "stream",
     "text": [
      "Training Classification Report\n",
      "              precision    recall  f1-score   support\n",
      "\n",
      "           0       0.77      0.86      0.81       995\n",
      "           1       0.67      0.51      0.58       540\n",
      "\n",
      "    accuracy                           0.74      1535\n",
      "   macro avg       0.72      0.69      0.70      1535\n",
      "weighted avg       0.73      0.74      0.73      1535\n",
      "\n",
      "------------------------------------------------------\n",
      "Test Classification Report\n",
      "              precision    recall  f1-score   support\n",
      "\n",
      "           0       0.66      0.76      0.71       320\n",
      "           1       0.47      0.35      0.40       192\n",
      "\n",
      "    accuracy                           0.61       512\n",
      "   macro avg       0.57      0.56      0.56       512\n",
      "weighted avg       0.59      0.61      0.60       512\n",
      "\n"
     ]
    }
   ],
   "source": [
    "knn_cv_model = KNeighborsClassifier(\n",
    "    n_neighbors=knn_gridsearchcv.best_params_['n_neighbors'],\n",
    "    weights=knn_gridsearchcv.best_params_['weights'],\n",
    "    p=knn_gridsearchcv.best_params_['p']\n",
    ").fit(XTrain, yTrain)\n",
    "\n",
    "print('Training Classification Report')\n",
    "print(classification_report(yTrain, knn_cv_model.predict(XTrain)))\n",
    "print('------------------------------------------------------')\n",
    "print('Test Classification Report')\n",
    "print(classification_report(yTest, knn_cv_model.predict(XTest)))"
   ]
  },
  {
   "cell_type": "markdown",
   "metadata": {},
   "source": [
    "## Naive Bayes"
   ]
  },
  {
   "cell_type": "code",
   "execution_count": 7,
   "metadata": {},
   "outputs": [
    {
     "name": "stdout",
     "output_type": "stream",
     "text": [
      "Training Classification Report\n",
      "              precision    recall  f1-score   support\n",
      "\n",
      "           0       0.97      0.07      0.12       995\n",
      "           1       0.37      1.00      0.54       540\n",
      "\n",
      "    accuracy                           0.39      1535\n",
      "   macro avg       0.67      0.53      0.33      1535\n",
      "weighted avg       0.76      0.39      0.27      1535\n",
      "\n",
      "------------------------------------------------------\n",
      "Test Classification Report\n",
      "              precision    recall  f1-score   support\n",
      "\n",
      "           0       0.84      0.05      0.09       320\n",
      "           1       0.38      0.98      0.55       192\n",
      "\n",
      "    accuracy                           0.40       512\n",
      "   macro avg       0.61      0.52      0.32       512\n",
      "weighted avg       0.67      0.40      0.27       512\n",
      "\n"
     ]
    }
   ],
   "source": [
    "nb_model = Pipeline(\n",
    "    [('scaler', StandardScaler()),\n",
    "     ('nb_model', GaussianNB())]\n",
    ").fit(XTrain, yTrain)\n",
    "\n",
    "print('Training Classification Report')\n",
    "print(classification_report(yTrain, nb_model.predict(XTrain)))\n",
    "print('------------------------------------------------------')\n",
    "print('Test Classification Report')\n",
    "print(classification_report(yTest, nb_model.predict(XTest)))"
   ]
  }
 ],
 "metadata": {
  "kernelspec": {
   "display_name": ".venv",
   "language": "python",
   "name": "python3"
  },
  "language_info": {
   "codemirror_mode": {
    "name": "ipython",
    "version": 3
   },
   "file_extension": ".py",
   "mimetype": "text/x-python",
   "name": "python",
   "nbconvert_exporter": "python",
   "pygments_lexer": "ipython3",
   "version": "3.12.1"
  }
 },
 "nbformat": 4,
 "nbformat_minor": 2
}
