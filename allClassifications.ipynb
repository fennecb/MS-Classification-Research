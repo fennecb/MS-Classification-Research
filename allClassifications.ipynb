{
 "cells": [
  {
   "cell_type": "code",
   "execution_count": 93,
   "metadata": {},
   "outputs": [],
   "source": [
    "import pandas as pd\n",
    "import numpy as np\n",
    "from collections import Counter\n",
    "from sklearn.preprocessing import StandardScaler\n",
    "from sklearn.pipeline import Pipeline\n",
    "from sklearn.tree import DecisionTreeClassifier\n",
    "from sklearn.ensemble import RandomForestClassifier, GradientBoostingClassifier\n",
    "from sklearn.naive_bayes import GaussianNB\n",
    "from sklearn import metrics\n",
    "from sklearn.metrics import confusion_matrix, classification_report, precision_recall_curve, PrecisionRecallDisplay\n",
    "from sklearn.model_selection import train_test_split, cross_val_score, cross_validate, TunedThresholdClassifierCV, GridSearchCV, StratifiedKFold\n",
    "from sklearn.neighbors import KNeighborsClassifier\n",
    "from pprint import pprint\n",
    "from imblearn.over_sampling import SMOTE\n",
    "from imblearn.pipeline import Pipeline as imbPipeline\n",
    "from xgboost import XGBClassifier"
   ]
  },
  {
   "cell_type": "code",
   "execution_count": 32,
   "metadata": {},
   "outputs": [],
   "source": [
    "cleanedData = pd.read_csv('../Fully-Cleaned-Data.csv')"
   ]
  },
  {
   "cell_type": "code",
   "execution_count": 33,
   "metadata": {},
   "outputs": [],
   "source": [
    "categoricalColumns = cleanedData.select_dtypes(include=['object']).columns.tolist()\n",
    "numericalData = cleanedData.drop(columns=categoricalColumns)\n",
    "oneHotData = pd.get_dummies(cleanedData[categoricalColumns])"
   ]
  },
  {
   "cell_type": "code",
   "execution_count": 34,
   "metadata": {},
   "outputs": [
    {
     "name": "stdout",
     "output_type": "stream",
     "text": [
      "(2047, 48)\n"
     ]
    }
   ],
   "source": [
    "cleanedDataOneHotEncoded = pd.concat([numericalData, oneHotData], axis=1)\n",
    "print(cleanedDataOneHotEncoded.shape)"
   ]
  },
  {
   "cell_type": "code",
   "execution_count": 35,
   "metadata": {},
   "outputs": [],
   "source": [
    "X = cleanedDataOneHotEncoded.drop(['Future Relapse Binary'], axis=1)\n",
    "y = cleanedDataOneHotEncoded['Future Relapse Binary']\n",
    "XTrain, XTest, yTrain, yTest = train_test_split(X, y, stratify=y, random_state=42)"
   ]
  },
  {
   "cell_type": "code",
   "execution_count": 36,
   "metadata": {},
   "outputs": [],
   "source": [
    "def print_scoring_statistics(yTrue, yPred):\n",
    "    print(metrics.balanced_accuracy_score(yTrue, yPred))\n",
    "    print(metrics.f1_score(yTrue, yPred))\n",
    "    print(metrics.precision_score(yTrue, yPred))\n",
    "    print(metrics.recall_score(yTrue, yPred))"
   ]
  },
  {
   "cell_type": "code",
   "execution_count": 41,
   "metadata": {},
   "outputs": [],
   "source": [
    "kf = StratifiedKFold(n_splits=5, shuffle=True, random_state=42)"
   ]
  },
  {
   "cell_type": "markdown",
   "metadata": {},
   "source": [
    "## Decision Tree"
   ]
  },
  {
   "cell_type": "code",
   "execution_count": 51,
   "metadata": {},
   "outputs": [],
   "source": [
    "decision_tree_model = DecisionTreeClassifier(random_state=42)"
   ]
  },
  {
   "cell_type": "code",
   "execution_count": 67,
   "metadata": {},
   "outputs": [
    {
     "name": "stdout",
     "output_type": "stream",
     "text": [
      "{'criterion': 'gini', 'max_depth': 3, 'min_samples_split': 50}\n"
     ]
    }
   ],
   "source": [
    "decision_tree_param_grid = {\n",
    "    'max_depth': range(1, 15),\n",
    "    'min_samples_split': (2, 50),\n",
    "    'criterion': ['gini', 'entropy'],\n",
    "}\n",
    "decision_tree_gscv = GridSearchCV(\n",
    "    estimator=decision_tree_model, \n",
    "    param_grid=decision_tree_param_grid, \n",
    "    scoring='roc_auc', \n",
    "    cv=kf\n",
    ").fit(XTrain, yTrain)\n",
    "print(decision_tree_gscv.best_params_)"
   ]
  },
  {
   "cell_type": "code",
   "execution_count": 71,
   "metadata": {},
   "outputs": [],
   "source": [
    "decision_tree_grid_search_params = DecisionTreeClassifier(\n",
    "    random_state=42, \n",
    "    criterion=decision_tree_gscv.best_params_['criterion'], \n",
    "    min_samples_split=decision_tree_gscv.best_params_['min_samples_split'],\n",
    "    max_depth=decision_tree_gscv.best_params_['max_depth']\n",
    ").fit(XTrain, yTrain)"
   ]
  },
  {
   "cell_type": "code",
   "execution_count": 72,
   "metadata": {},
   "outputs": [
    {
     "name": "stdout",
     "output_type": "stream",
     "text": [
      "              precision    recall  f1-score   support\n",
      "\n",
      "           0       0.75      0.71      0.73       986\n",
      "           1       0.52      0.56      0.54       549\n",
      "\n",
      "    accuracy                           0.66      1535\n",
      "   macro avg       0.63      0.64      0.63      1535\n",
      "weighted avg       0.66      0.66      0.66      1535\n",
      "\n",
      "              precision    recall  f1-score   support\n",
      "\n",
      "           0       0.70      0.68      0.69       329\n",
      "           1       0.46      0.48      0.47       183\n",
      "\n",
      "    accuracy                           0.61       512\n",
      "   macro avg       0.58      0.58      0.58       512\n",
      "weighted avg       0.61      0.61      0.61       512\n",
      "\n"
     ]
    }
   ],
   "source": [
    "decision_tree_train_preds = decision_tree_grid_search_params.predict(XTrain)\n",
    "\n",
    "print(classification_report(yTrain, decision_tree_train_preds))\n",
    "\n",
    "print(classification_report(yTest, decision_tree_grid_search_params.predict(XTest)))"
   ]
  },
  {
   "cell_type": "code",
   "execution_count": 13,
   "metadata": {},
   "outputs": [
    {
     "name": "stdout",
     "output_type": "stream",
     "text": [
      "0.6391278673648076\n",
      "0.6400311259501071\n",
      "0.630084751013117\n",
      "0.6525961538461538\n"
     ]
    }
   ],
   "source": [
    "print(cross_val_score(decision_tree_model, XTrain, yTrain, cv=15, scoring='balanced_accuracy').mean())\n",
    "print(cross_val_score(decision_tree_model, XTrain, yTrain, cv=15, scoring='f1').mean())\n",
    "print(cross_val_score(decision_tree_model, XTrain, yTrain, cv=15, scoring='precision').mean())\n",
    "print(cross_val_score(decision_tree_model, XTrain, yTrain, cv=15, scoring='recall').mean())"
   ]
  },
  {
   "cell_type": "code",
   "execution_count": 10,
   "metadata": {},
   "outputs": [
    {
     "name": "stdout",
     "output_type": "stream",
     "text": [
      "0.6005208333333333\n",
      "0.5588822355289421\n",
      "0.45307443365695793\n",
      "0.7291666666666666\n",
      "[[151 169]\n",
      " [ 52 140]]\n"
     ]
    }
   ],
   "source": [
    "decision_tree_threshold_tuned = TunedThresholdClassifierCV(decision_tree_model, \n",
    "                                                           cv=15, \n",
    "                                                           scoring='recall_macro', \n",
    "                                                           random_state=42\n",
    "                                                        ).fit(XTrain, yTrain)\n",
    "print_scoring_statistics(yTest, decision_tree_threshold_tuned.predict(XTest))\n",
    "print(confusion_matrix(yTest, decision_tree_threshold_tuned.predict(XTest)))"
   ]
  },
  {
   "cell_type": "markdown",
   "metadata": {},
   "source": [
    "## Random Forest"
   ]
  },
  {
   "cell_type": "code",
   "execution_count": 11,
   "metadata": {},
   "outputs": [],
   "source": [
    "random_forest_pipeline = Pipeline([\n",
    "    ('model', RandomForestClassifier(class_weight='balanced', random_state=42, max_depth=11))\n",
    "])"
   ]
  },
  {
   "cell_type": "code",
   "execution_count": 12,
   "metadata": {},
   "outputs": [
    {
     "name": "stdout",
     "output_type": "stream",
     "text": [
      "0.9371812767541411\n",
      "0.9052997393570807\n",
      "0.8527004909983633\n",
      "0.9648148148148148\n",
      "[[905  90]\n",
      " [ 19 521]]\n",
      "              precision    recall  f1-score   support\n",
      "\n",
      "           0       0.98      0.91      0.94       995\n",
      "           1       0.85      0.96      0.91       540\n",
      "\n",
      "    accuracy                           0.93      1535\n",
      "   macro avg       0.92      0.94      0.92      1535\n",
      "weighted avg       0.93      0.93      0.93      1535\n",
      "\n"
     ]
    }
   ],
   "source": [
    "random_forest_train_preds = random_forest_pipeline.fit(XTrain, yTrain).predict(XTrain)\n",
    "print_scoring_statistics(yTrain, random_forest_train_preds)\n",
    "print(confusion_matrix(yTrain, random_forest_train_preds))\n",
    "print(classification_report(yTrain, random_forest_train_preds))"
   ]
  },
  {
   "cell_type": "code",
   "execution_count": 13,
   "metadata": {},
   "outputs": [
    {
     "name": "stdout",
     "output_type": "stream",
     "text": [
      "0.6316850092969497\n",
      "0.5237586288059768\n",
      "0.5228178301947463\n",
      "0.5296296296296296\n"
     ]
    }
   ],
   "source": [
    "print(cross_val_score(random_forest_pipeline, XTrain, yTrain, cv=15, scoring='balanced_accuracy').mean())\n",
    "print(cross_val_score(random_forest_pipeline, XTrain, yTrain, cv=15, scoring='f1').mean())\n",
    "print(cross_val_score(random_forest_pipeline, XTrain, yTrain, cv=15, scoring='precision').mean())\n",
    "print(cross_val_score(random_forest_pipeline, XTrain, yTrain, cv=15, scoring='recall').mean())"
   ]
  },
  {
   "cell_type": "code",
   "execution_count": 14,
   "metadata": {},
   "outputs": [
    {
     "name": "stdout",
     "output_type": "stream",
     "text": [
      "0.6515625\n",
      "0.5703125\n",
      "0.4444444444444444\n",
      "1.0\n"
     ]
    }
   ],
   "source": [
    "for scoring_str in ['balanced_accuracy', 'f1', 'precision', 'recall']:\n",
    "    random_forest_threshold_tuned = TunedThresholdClassifierCV(random_forest_pipeline, \n",
    "                                                            cv=15, \n",
    "                                                            scoring=scoring_str, \n",
    "                                                            random_state=42\n",
    "                                                            ).fit(XTrain, yTrain)\n",
    "    if scoring_str == 'balanced_accuracy':\n",
    "        print(metrics.balanced_accuracy_score(yTest, random_forest_threshold_tuned.predict(XTest)))\n",
    "    elif scoring_str == 'f1':\n",
    "        print(metrics.f1_score(yTest, random_forest_threshold_tuned.predict(XTest)))\n",
    "    elif scoring_str == 'precision':\n",
    "        print(metrics.precision_score(yTest, random_forest_threshold_tuned.predict(XTest)))\n",
    "    elif scoring_str == 'recall':\n",
    "        print(metrics.recall_score(yTest, random_forest_threshold_tuned.predict(XTest)))"
   ]
  },
  {
   "cell_type": "code",
   "execution_count": 80,
   "metadata": {},
   "outputs": [
    {
     "name": "stdout",
     "output_type": "stream",
     "text": [
      "{'class_weight': 'balanced', 'criterion': 'entropy', 'max_depth': 6, 'n_estimators': 50}\n"
     ]
    }
   ],
   "source": [
    "rf_model = RandomForestClassifier(random_state=42)\n",
    "rf_param_grid = {\n",
    "    'criterion': ['gini', 'entropy'],\n",
    "    'max_depth': range(2, 10),\n",
    "    'class_weight': ['balanced', None],\n",
    "    'n_estimators': [50, 100, 150, 200, 250]\n",
    "}\n",
    "\n",
    "rf_gridsearchcv = GridSearchCV(\n",
    "    estimator=rf_model, \n",
    "    param_grid=rf_param_grid, \n",
    "    scoring='roc_auc'\n",
    ").fit(XTrain, yTrain)\n",
    "print(rf_gridsearchcv.best_params_)"
   ]
  },
  {
   "cell_type": "code",
   "execution_count": 81,
   "metadata": {},
   "outputs": [
    {
     "name": "stdout",
     "output_type": "stream",
     "text": [
      "Training Classification Report\n",
      "              precision    recall  f1-score   support\n",
      "\n",
      "           0       0.84      0.69      0.76       986\n",
      "           1       0.58      0.76      0.66       549\n",
      "\n",
      "    accuracy                           0.72      1535\n",
      "   macro avg       0.71      0.73      0.71      1535\n",
      "weighted avg       0.75      0.72      0.72      1535\n",
      "\n",
      "------------------------------------------------------\n",
      "Test Classification Report\n",
      "              precision    recall  f1-score   support\n",
      "\n",
      "           0       0.73      0.62      0.67       329\n",
      "           1       0.46      0.58      0.51       183\n",
      "\n",
      "    accuracy                           0.61       512\n",
      "   macro avg       0.59      0.60      0.59       512\n",
      "weighted avg       0.63      0.61      0.61       512\n",
      "\n"
     ]
    }
   ],
   "source": [
    "rf_cv_model = RandomForestClassifier(\n",
    "    random_state=42, \n",
    "    class_weight=rf_gridsearchcv.best_params_['class_weight'], \n",
    "    criterion=rf_gridsearchcv.best_params_['criterion'], \n",
    "    max_depth=rf_gridsearchcv.best_params_['max_depth'], \n",
    "    n_estimators=rf_gridsearchcv.best_params_['n_estimators']\n",
    ")\n",
    "\n",
    "print('Training Classification Report')\n",
    "print(classification_report(yTrain, rf_cv_model.fit(XTrain, yTrain).predict(XTrain)))\n",
    "print('------------------------------------------------------')\n",
    "print('Test Classification Report')\n",
    "print(classification_report(yTest, rf_cv_model.fit(XTrain, yTrain).predict(XTest)))"
   ]
  },
  {
   "cell_type": "markdown",
   "metadata": {},
   "source": [
    "## KNN"
   ]
  },
  {
   "cell_type": "code",
   "execution_count": 74,
   "metadata": {},
   "outputs": [
    {
     "name": "stdout",
     "output_type": "stream",
     "text": [
      "{'n_neighbors': 5, 'p': 2, 'weights': 'uniform'}\n"
     ]
    }
   ],
   "source": [
    "knn_model = KNeighborsClassifier()\n",
    "knn_param_grid = {\n",
    "    'n_neighbors': range(5, 25),\n",
    "    'weights': ['uniform'],\n",
    "    'p': [1, 2]\n",
    "}\n",
    "\n",
    "knn_gridsearchcv = GridSearchCV(\n",
    "    estimator=knn_model, \n",
    "    param_grid=knn_param_grid, \n",
    "    scoring='recall'\n",
    ").fit(XTrain, yTrain)\n",
    "print(knn_gridsearchcv.best_params_)"
   ]
  },
  {
   "cell_type": "code",
   "execution_count": 75,
   "metadata": {},
   "outputs": [
    {
     "name": "stdout",
     "output_type": "stream",
     "text": [
      "Training Classification Report\n",
      "              precision    recall  f1-score   support\n",
      "\n",
      "           0       0.76      0.88      0.82       986\n",
      "           1       0.71      0.51      0.59       549\n",
      "\n",
      "    accuracy                           0.75      1535\n",
      "   macro avg       0.74      0.70      0.71      1535\n",
      "weighted avg       0.75      0.75      0.74      1535\n",
      "\n",
      "------------------------------------------------------\n",
      "Test Classification Report\n",
      "              precision    recall  f1-score   support\n",
      "\n",
      "           0       0.66      0.76      0.71       329\n",
      "           1       0.41      0.30      0.34       183\n",
      "\n",
      "    accuracy                           0.59       512\n",
      "   macro avg       0.53      0.53      0.52       512\n",
      "weighted avg       0.57      0.59      0.58       512\n",
      "\n"
     ]
    }
   ],
   "source": [
    "knn_cv_model = KNeighborsClassifier(\n",
    "    n_neighbors=knn_gridsearchcv.best_params_['n_neighbors'],\n",
    "    weights=knn_gridsearchcv.best_params_['weights'],\n",
    "    p=knn_gridsearchcv.best_params_['p']\n",
    ").fit(XTrain, yTrain)\n",
    "\n",
    "print('Training Classification Report')\n",
    "print(classification_report(yTrain, knn_cv_model.predict(XTrain)))\n",
    "print('------------------------------------------------------')\n",
    "print('Test Classification Report')\n",
    "print(classification_report(yTest, knn_cv_model.predict(XTest)))"
   ]
  },
  {
   "cell_type": "markdown",
   "metadata": {},
   "source": [
    "## Naive Bayes"
   ]
  },
  {
   "cell_type": "code",
   "execution_count": 73,
   "metadata": {},
   "outputs": [
    {
     "name": "stdout",
     "output_type": "stream",
     "text": [
      "Training Classification Report\n",
      "              precision    recall  f1-score   support\n",
      "\n",
      "           0       0.91      0.11      0.19       986\n",
      "           1       0.38      0.98      0.55       549\n",
      "\n",
      "    accuracy                           0.42      1535\n",
      "   macro avg       0.64      0.54      0.37      1535\n",
      "weighted avg       0.72      0.42      0.32      1535\n",
      "\n",
      "------------------------------------------------------\n",
      "Test Classification Report\n",
      "              precision    recall  f1-score   support\n",
      "\n",
      "           0       0.90      0.11      0.20       329\n",
      "           1       0.38      0.98      0.55       183\n",
      "\n",
      "    accuracy                           0.42       512\n",
      "   macro avg       0.64      0.54      0.37       512\n",
      "weighted avg       0.71      0.42      0.32       512\n",
      "\n"
     ]
    }
   ],
   "source": [
    "nb_model = Pipeline(\n",
    "    [('scaler', StandardScaler()),\n",
    "     ('nb_model', GaussianNB())]\n",
    ").fit(XTrain, yTrain)\n",
    "\n",
    "print('Training Classification Report')\n",
    "print(classification_report(yTrain, nb_model.predict(XTrain)))\n",
    "print('------------------------------------------------------')\n",
    "print('Test Classification Report')\n",
    "print(classification_report(yTest, nb_model.predict(XTest)))"
   ]
  },
  {
   "cell_type": "markdown",
   "metadata": {},
   "source": [
    "## Gradient Boosting"
   ]
  },
  {
   "cell_type": "code",
   "execution_count": 84,
   "metadata": {},
   "outputs": [
    {
     "name": "stdout",
     "output_type": "stream",
     "text": [
      "{'max_depth': 3, 'n_estimators': 50}\n"
     ]
    }
   ],
   "source": [
    "gb_model = GradientBoostingClassifier(random_state=42)\n",
    "gb_param_grid = {\n",
    "    'max_depth': range(2, 15),\n",
    "    'n_estimators': [50, 150, 250, 350]\n",
    "}\n",
    "\n",
    "gb_gridsearchcv = GridSearchCV(\n",
    "    estimator=gb_model,\n",
    "    param_grid=gb_param_grid,\n",
    "    scoring='roc_auc'\n",
    ").fit(XTrain, yTrain)\n",
    "print(gb_gridsearchcv.best_params_)"
   ]
  },
  {
   "cell_type": "code",
   "execution_count": 85,
   "metadata": {},
   "outputs": [
    {
     "name": "stdout",
     "output_type": "stream",
     "text": [
      "Training Classification Report\n",
      "              precision    recall  f1-score   support\n",
      "\n",
      "           0       0.73      0.90      0.80       986\n",
      "           1       0.69      0.40      0.50       549\n",
      "\n",
      "    accuracy                           0.72      1535\n",
      "   macro avg       0.71      0.65      0.65      1535\n",
      "weighted avg       0.71      0.72      0.70      1535\n",
      "\n",
      "------------------------------------------------------\n",
      "Test Classification Report\n",
      "              precision    recall  f1-score   support\n",
      "\n",
      "           0       0.69      0.84      0.76       329\n",
      "           1       0.54      0.33      0.41       183\n",
      "\n",
      "    accuracy                           0.66       512\n",
      "   macro avg       0.62      0.59      0.59       512\n",
      "weighted avg       0.64      0.66      0.64       512\n",
      "\n"
     ]
    }
   ],
   "source": [
    "gb_cv_model = GradientBoostingClassifier(\n",
    "    random_state=42,\n",
    "    max_depth=gb_gridsearchcv.best_params_['max_depth'],\n",
    "    n_estimators=gb_gridsearchcv.best_params_['n_estimators']\n",
    ")\n",
    "\n",
    "print('Training Classification Report')\n",
    "print(classification_report(yTrain, gb_cv_model.fit(XTrain, yTrain).predict(XTrain)))\n",
    "print('------------------------------------------------------')\n",
    "print('Test Classification Report')\n",
    "print(classification_report(yTest, gb_cv_model.fit(XTrain, yTrain).predict(XTest)))"
   ]
  },
  {
   "cell_type": "code",
   "execution_count": 87,
   "metadata": {},
   "outputs": [
    {
     "name": "stdout",
     "output_type": "stream",
     "text": [
      "              precision    recall  f1-score   support\n",
      "\n",
      "           0       0.72      0.64      0.68       329\n",
      "           1       0.46      0.55      0.50       183\n",
      "\n",
      "    accuracy                           0.61       512\n",
      "   macro avg       0.59      0.60      0.59       512\n",
      "weighted avg       0.63      0.61      0.62       512\n",
      "\n",
      "0.38243074254402926\n"
     ]
    }
   ],
   "source": [
    "gb_threshold_tuned = TunedThresholdClassifierCV(\n",
    "    gb_cv_model,\n",
    "    cv=kf,\n",
    "    scoring='roc_auc'\n",
    ").fit(XTrain, yTrain)\n",
    "\n",
    "print(classification_report(yTest, gb_threshold_tuned.predict(XTest)))\n",
    "print(gb_threshold_tuned.best_threshold_)"
   ]
  },
  {
   "cell_type": "markdown",
   "metadata": {},
   "source": [
    "## XGBoost"
   ]
  },
  {
   "cell_type": "code",
   "execution_count": 94,
   "metadata": {},
   "outputs": [
    {
     "name": "stdout",
     "output_type": "stream",
     "text": [
      "{'base_score': 0.55, 'grow_policy': 'depthwise', 'max_depth': 3, 'n_estimators': 50}\n"
     ]
    },
    {
     "name": "stderr",
     "output_type": "stream",
     "text": [
      "/Users/castle/Documents/MS_Classification_Research/.venv/lib/python3.12/site-packages/numpy/ma/core.py:2881: RuntimeWarning: invalid value encountered in cast\n",
      "  _data = np.array(data, dtype=dtype, copy=copy,\n"
     ]
    }
   ],
   "source": [
    "xgb_model = XGBClassifier()\n",
    "xgb_param_grid = {\n",
    "    'n_estimators': [50, 150, 250],\n",
    "    'max_depth': range(2, 15),\n",
    "    'grow_policy': ['depthwise', 'lossguide'],\n",
    "    'base_score': [0.25, 0.35, 0.45, 0.5, 0.55, 0.65, 0.75]\n",
    "}\n",
    "\n",
    "xgb_gridsearchcv = GridSearchCV(\n",
    "    estimator=xgb_model,\n",
    "    param_grid=xgb_param_grid,\n",
    "    scoring='roc_auc'\n",
    ").fit(XTrain, yTrain)\n",
    "print(xgb_gridsearchcv.best_params_)"
   ]
  },
  {
   "cell_type": "code",
   "execution_count": 96,
   "metadata": {},
   "outputs": [
    {
     "name": "stdout",
     "output_type": "stream",
     "text": [
      "Training Classification Report\n",
      "              precision    recall  f1-score   support\n",
      "\n",
      "           0       0.78      0.92      0.84       986\n",
      "           1       0.79      0.52      0.63       549\n",
      "\n",
      "    accuracy                           0.78      1535\n",
      "   macro avg       0.78      0.72      0.74      1535\n",
      "weighted avg       0.78      0.78      0.77      1535\n",
      "\n",
      "------------------------------------------------------\n",
      "Test Classification Report\n",
      "              precision    recall  f1-score   support\n",
      "\n",
      "           0       0.68      0.84      0.75       329\n",
      "           1       0.50      0.30      0.38       183\n",
      "\n",
      "    accuracy                           0.64       512\n",
      "   macro avg       0.59      0.57      0.56       512\n",
      "weighted avg       0.62      0.64      0.62       512\n",
      "\n"
     ]
    }
   ],
   "source": [
    "xgb_cv_model = XGBClassifier(\n",
    "    n_estimators=xgb_gridsearchcv.best_params_['n_estimators'],\n",
    "    max_depth=xgb_gridsearchcv.best_params_['max_depth'],\n",
    "    grow_policy=xgb_gridsearchcv.best_params_['grow_policy'],\n",
    "    base_score=xgb_gridsearchcv.best_params_['base_score'],\n",
    ").fit(XTrain, yTrain)\n",
    "\n",
    "print('Training Classification Report')\n",
    "print(classification_report(yTrain, xgb_cv_model.predict(XTrain)))\n",
    "print('------------------------------------------------------')\n",
    "print('Test Classification Report')\n",
    "print(classification_report(yTest, xgb_cv_model.predict(XTest)))"
   ]
  }
 ],
 "metadata": {
  "kernelspec": {
   "display_name": ".venv",
   "language": "python",
   "name": "python3"
  },
  "language_info": {
   "codemirror_mode": {
    "name": "ipython",
    "version": 3
   },
   "file_extension": ".py",
   "mimetype": "text/x-python",
   "name": "python",
   "nbconvert_exporter": "python",
   "pygments_lexer": "ipython3",
   "version": "3.12.6"
  }
 },
 "nbformat": 4,
 "nbformat_minor": 2
}
