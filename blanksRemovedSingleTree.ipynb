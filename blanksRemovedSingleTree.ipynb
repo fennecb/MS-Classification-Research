{
 "cells": [
  {
   "cell_type": "code",
   "execution_count": 1,
   "metadata": {},
   "outputs": [],
   "source": [
    "### Imports\n",
    "import pandas as pd\n",
    "from sklearn import tree\n",
    "from sklearn import metrics"
   ]
  },
  {
   "cell_type": "code",
   "execution_count": 2,
   "metadata": {},
   "outputs": [],
   "source": [
    "### Load File\n",
    "fullData = pd.read_csv('De-identified ARR Dataset - new.csv')"
   ]
  },
  {
   "cell_type": "code",
   "execution_count": 32,
   "metadata": {},
   "outputs": [],
   "source": [
    "### Remove columns which either have all/mostly blank values\n",
    "### or are the values we are attempting to predict\n",
    "headers = list(fullData.columns.values)\n",
    "badHeaders = [\n",
    "    'id', 'BMI', 'Number of Future Relapses 1monthto3years', \n",
    "    'Number of Future Relapses 1yrto3yrs', \n",
    "    'NfLValue', 'HighNfL Binary'\n",
    "]\n",
    "for header in badHeaders:\n",
    "    headers.remove(header)\n",
    "\n",
    "trimmedData = fullData[headers]"
   ]
  },
  {
   "cell_type": "code",
   "execution_count": 33,
   "metadata": {},
   "outputs": [
    {
     "name": "stdout",
     "output_type": "stream",
     "text": [
      "DiseasedurationatFV         1\n",
      "EDSS_FV                   109\n",
      "PYRAMIDAL_FUNCTION         98\n",
      "CEREBELLAR_FUNCTION        99\n",
      "BRAINSTEM_FUNCTION        100\n",
      "SENSORY_FUNCTION           99\n",
      "BOWEL_BLADDER_FUNCTION    102\n",
      "VISUAL_FUNCTION            99\n",
      "MENTAL_FUNCTION            99\n",
      "dtype: int64\n"
     ]
    }
   ],
   "source": [
    "### Find Blank Values\n",
    "print(trimmedData.isna().sum()[trimmedData.isna().sum() > 0])"
   ]
  },
  {
   "cell_type": "code",
   "execution_count": null,
   "metadata": {},
   "outputs": [
    {
     "name": "stdout",
     "output_type": "stream",
     "text": [
      "EDSS_FV                   109\n",
      "PYRAMIDAL_FUNCTION         98\n",
      "CEREBELLAR_FUNCTION        99\n",
      "BRAINSTEM_FUNCTION        100\n",
      "SENSORY_FUNCTION           99\n",
      "BOWEL_BLADDER_FUNCTION    102\n",
      "VISUAL_FUNCTION            99\n",
      "MENTAL_FUNCTION            99\n",
      "dtype: int64\n",
      "(2191, 27)\n"
     ]
    }
   ],
   "source": [
    "### Remove single blank row from DiseasedurationatFV\n",
    "trimmedData = trimmedData.dropna(subset=['DiseasedurationatFV'])\n",
    "print(trimmedData.isna().sum()[trimmedData.isna().sum() > 0])\n",
    "print(trimmedData.shape)"
   ]
  },
  {
   "cell_type": "code",
   "execution_count": null,
   "metadata": {},
   "outputs": [
    {
     "name": "stdout",
     "output_type": "stream",
     "text": [
      "DISEASE_CATEGORY_DESC_FV  EDSS_FV  PYRAMIDAL_FUNCTION  CEREBELLAR_FUNCTION  BRAINSTEM_FUNCTION  SENSORY_FUNCTION  BOWEL_BLADDER_FUNCTION  VISUAL_FUNCTION  MENTAL_FUNCTION\n",
      "False                     False    False               False                False               False             False                   False            False              1993\n",
      "                          True     False               False                False               False             False                   False            False                93\n",
      "                          False    True                True                 True                True              True                    True             True                 80\n",
      "                          True     True                True                 True                True              True                    True             True                 16\n",
      "                          False    False               False                False               False             True                    False            False                 3\n",
      "                                                                                                                  False                   True             False                 2\n",
      "                                   True                True                 True                True              True                    False            True                  2\n",
      "                                   False               False                True                False             False                   False            False                 1\n",
      "                                                       True                 True                True              True                    True             True                  1\n",
      "Name: count, dtype: int64\n"
     ]
    }
   ],
   "source": [
    "### Investigate pattern of blank rows\n",
    "print(trimmedData.iloc[::, 7:16].isna().value_counts())"
   ]
  },
  {
   "cell_type": "code",
   "execution_count": null,
   "metadata": {},
   "outputs": [
    {
     "name": "stdout",
     "output_type": "stream",
     "text": [
      "(1993, 27)\n",
      "(1993, 11)\n",
      "(1993, 79)\n",
      "(1993, 90)\n"
     ]
    }
   ],
   "source": [
    "### Begin with simplest: remove rows with blanks\n",
    "blanksRemoved = trimmedData.dropna()\n",
    "print(blanksRemoved.shape)\n",
    "categoricalColumns = blanksRemoved.select_dtypes(include=['object']).columns.to_list()\n",
    "remainingColumns = blanksRemoved.drop(columns=categoricalColumns)\n",
    "oneHots = pd.get_dummies(blanksRemoved[categoricalColumns])\n",
    "print(remainingColumns.shape)\n",
    "print(oneHots.shape)\n",
    "oneHotPlusNumerical = pd.concat([remainingColumns, oneHots],axis=1)\n",
    "print(oneHotPlusNumerical.shape)"
   ]
  },
  {
   "cell_type": "code",
   "execution_count": null,
   "metadata": {},
   "outputs": [
    {
     "name": "stdout",
     "output_type": "stream",
     "text": [
      "Index([   0,    1,    2,    3,    4,    5,    6,    7,    8,    9,\n",
      "       ...\n",
      "       2182, 2183, 2184, 2185, 2186, 2187, 2188, 2189, 2190, 2191],\n",
      "      dtype='int64', length=1993)\n",
      "RangeIndex(start=0, stop=1993, step=1)\n"
     ]
    }
   ],
   "source": [
    "### Reset indices since we deleted rows without reindexing\n",
    "print(oneHotPlusNumerical.index)\n",
    "oneHotPlusNumerical.reset_index(drop = True, inplace = True)\n",
    "print(oneHotPlusNumerical.index)"
   ]
  },
  {
   "cell_type": "code",
   "execution_count": null,
   "metadata": {},
   "outputs": [
    {
     "name": "stdout",
     "output_type": "stream",
     "text": [
      "Difference\n",
      "0    1113\n",
      "1     880\n",
      "Name: count, dtype: int64\n",
      "Accuracy: 55.85%\n"
     ]
    }
   ],
   "source": [
    "### Perform Decision Tree classification and check accuracy\n",
    "import warnings\n",
    "warnings.filterwarnings('ignore')\n",
    "treeClassifier = tree.DecisionTreeClassifier(max_depth=5)\n",
    "indicator = oneHotPlusNumerical['Future Relapse Binary']\n",
    "xValues = oneHotPlusNumerical.drop(['Future Relapse Binary'], axis=1)\n",
    "treeModel = treeClassifier.fit(xValues, indicator)\n",
    "\n",
    "classificationResults = pd.DataFrame(columns=['Real Label', 'Predicted Label', 'Difference'])\n",
    "classificationResultsArray = []\n",
    "count = 0\n",
    "for _, row in oneHotPlusNumerical.iterrows():\n",
    "    classificationResultsArray.append(treeModel.predict([row[1:]])[0])\n",
    "\n",
    "classificationResults['Predicted Label'] = pd.Series(classificationResultsArray)\n",
    "classificationResults['Real Label'] = oneHotPlusNumerical['Future Relapse Binary']\n",
    "classificationResults['Difference'] = abs(classificationResults['Real Label'] - classificationResults['Predicted Label'])\n",
    "diffValueCounts = classificationResults['Difference'].value_counts()\n",
    "print(diffValueCounts)\n",
    "print(f'Accuracy: {(diffValueCounts[0]/(diffValueCounts[0] + diffValueCounts[1]))*100:.2f}%')"
   ]
  },
  {
   "cell_type": "code",
   "execution_count": null,
   "metadata": {},
   "outputs": [],
   "source": [
    "mtrc = metrics.accuracy_score\n",
    "## prefer class 1 to be high (ensure we detect those who are likely to relapse) even at the cost of low class 0 accuracy\n",
    "## aim is class 1 accuracy 80%"
   ]
  }
 ],
 "metadata": {
  "kernelspec": {
   "display_name": ".venv",
   "language": "python",
   "name": "python3"
  },
  "language_info": {
   "codemirror_mode": {
    "name": "ipython",
    "version": 3
   },
   "file_extension": ".py",
   "mimetype": "text/x-python",
   "name": "python",
   "nbconvert_exporter": "python",
   "pygments_lexer": "ipython3",
   "version": "3.12.1"
  }
 },
 "nbformat": 4,
 "nbformat_minor": 2
}
